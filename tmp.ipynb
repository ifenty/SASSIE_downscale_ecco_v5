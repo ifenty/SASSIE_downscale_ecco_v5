{
 "cells": [
  {
   "cell_type": "code",
   "execution_count": 6,
   "id": "6ec4f3d2-b063-4a69-8ccb-83f2c00b67a9",
   "metadata": {},
   "outputs": [],
   "source": [
    "## import required packages\n",
    "import numpy as np\n",
    "import pandas as pd\n",
    "import matplotlib.pyplot as plt\n",
    "import xarray as xr\n",
    "import netCDF4 as nc4\n",
    "import tarfile\n",
    "import json\n",
    "import uuid as uuid\n",
    "import os\n",
    "from datetime import datetime, timedelta\n",
    "from pathlib import Path\n",
    "import s3fs\n",
    "import argparse\n",
    "from pprint import pprint\n",
    "import time \n",
    "import gzip\n",
    "import traceback\n",
    "from contextlib import contextmanager\n",
    "\n",
    "## import ECCO utils\n",
    "import sys\n",
    "sys.path.append('/home/jpluser/git_repos/ECCOv4-py')\n",
    "import ecco_v4_py as ecco"
   ]
  },
  {
   "cell_type": "code",
   "execution_count": 14,
   "id": "5e5d03d9-ea25-4ec0-8b8a-32dbea8fadda",
   "metadata": {},
   "outputs": [],
   "source": [
    "def push_nc_dir_to_ec2(nc_root_dir_ec2, root_dest_s3_name):\n",
    "    \"\"\"\n",
    "    Pushes the netcdf files from a directory to an S3 bucket.\n",
    "\n",
    "    Args:\n",
    "        nc_root_dir_ec2 (str): The root directory containing the netcdf files on the EC2 instance.\n",
    "        root_dest_s3_name (str): The root name of the S3 bucket where the files will be pushed.\n",
    "\n",
    "    Returns:\n",
    "        None\n",
    "    \"\"\"\n",
    "    ## upload each subdirectory in the nc root directory\n",
    "    \n",
    "    # Get a list of all items (files and folders) in the directory\n",
    "    all_subdirs = os.listdir(nc_root_dir_ec2)\n",
    "\n",
    "    for subdir_name in all_subdirs:\n",
    "        if subdir_name != '.ipynb_checkpoints':\n",
    "            print(subdir_name)\n",
    "            \n",
    "            ## push file to s3 bucket\n",
    "            mybucket = root_dest_s3_name + subdir_name\n",
    "            subdir_fullpath = Path(nc_root_dir_ec2 + \"/\" + subdir_name)\n",
    "            nc_files = list(subdir_fullpath.glob('*.nc'))\n",
    "    \n",
    "            print(f'\\n>pushing netcdf files in {subdir_name} to s3 bucket : {mybucket}')\n",
    "            print(f'... looking for *.nc files in {subdir_name}')\n",
    "            print(f'... found {len(nc_files)} nc files to upload')\n",
    "    \n",
    "            if len(nc_files)>0:\n",
    "                cmd=f\"aws s3 cp {subdir_fullpath} {mybucket}/ --recursive --include '*.nc' --no-progress > /dev/null 2>&1\"\n",
    "                print(f'... aws command: {cmd}')\n",
    "                with suppress_stdout():\n",
    "                   os.system(cmd)\n",
    "            else:\n",
    "                print(\"... nothing to upload!\") \n",
    "            \n",
    "        else:\n",
    "            print(f\"No subdirectories found in {nc_root_dir_ec2}\")"
   ]
  },
  {
   "cell_type": "code",
   "execution_count": 15,
   "id": "4b8e9e87-064f-4341-9120-a81b6f4b6003",
   "metadata": {},
   "outputs": [],
   "source": [
    "nc_root_dir_ec2 = '/home/jpluser/git_repos/SASSIE_downscale_ecco_v5/data/tmp_nc/tr_diff_x_day_mean_0005790000'\n",
    "root_dest_s3_name = 's3://podaac-dev-sassie/ECCO_model/N1/V1/HH/NETCDF/'"
   ]
  },
  {
   "cell_type": "code",
   "execution_count": 16,
   "id": "99166a91-cf8a-491b-a59e-303f9b54f64d",
   "metadata": {},
   "outputs": [
    {
     "name": "stdout",
     "output_type": "stream",
     "text": [
      "DFxE_SLT_AVG_DAILY\n",
      "\n",
      ">pushing netcdf files in DFxE_SLT_AVG_DAILY to s3 bucket : s3://podaac-dev-sassie/ECCO_model/N1/V1/HH/NETCDF/DFxE_SLT_AVG_DAILY\n",
      "... looking for *.nc files in DFxE_SLT_AVG_DAILY\n",
      "... found 5 nc files to upload\n",
      "... aws command: aws s3 cp /home/jpluser/git_repos/SASSIE_downscale_ecco_v5/data/tmp_nc/tr_diff_x_day_mean_0005790000/DFxE_SLT_AVG_DAILY s3://podaac-dev-sassie/ECCO_model/N1/V1/HH/NETCDF/DFxE_SLT_AVG_DAILY/ --recursive --include '*.nc' --no-progress > /dev/null 2>&1\n"
     ]
    },
    {
     "ename": "NameError",
     "evalue": "name 'suppress_stdout' is not defined",
     "output_type": "error",
     "traceback": [
      "\u001b[0;31m---------------------------------------------------------------------------\u001b[0m",
      "\u001b[0;31mNameError\u001b[0m                                 Traceback (most recent call last)",
      "Cell \u001b[0;32mIn[16], line 1\u001b[0m\n\u001b[0;32m----> 1\u001b[0m \u001b[43mpush_nc_dir_to_ec2\u001b[49m\u001b[43m(\u001b[49m\u001b[43mnc_root_dir_ec2\u001b[49m\u001b[43m,\u001b[49m\u001b[43m \u001b[49m\u001b[43mroot_dest_s3_name\u001b[49m\u001b[43m)\u001b[49m\n",
      "Cell \u001b[0;32mIn[14], line 33\u001b[0m, in \u001b[0;36mpush_nc_dir_to_ec2\u001b[0;34m(nc_root_dir_ec2, root_dest_s3_name)\u001b[0m\n\u001b[1;32m     31\u001b[0m     cmd\u001b[38;5;241m=\u001b[39m\u001b[38;5;124mf\u001b[39m\u001b[38;5;124m\"\u001b[39m\u001b[38;5;124maws s3 cp \u001b[39m\u001b[38;5;132;01m{\u001b[39;00msubdir_fullpath\u001b[38;5;132;01m}\u001b[39;00m\u001b[38;5;124m \u001b[39m\u001b[38;5;132;01m{\u001b[39;00mmybucket\u001b[38;5;132;01m}\u001b[39;00m\u001b[38;5;124m/ --recursive --include \u001b[39m\u001b[38;5;124m'\u001b[39m\u001b[38;5;124m*.nc\u001b[39m\u001b[38;5;124m'\u001b[39m\u001b[38;5;124m --no-progress > /dev/null 2>&1\u001b[39m\u001b[38;5;124m\"\u001b[39m\n\u001b[1;32m     32\u001b[0m     \u001b[38;5;28mprint\u001b[39m(\u001b[38;5;124mf\u001b[39m\u001b[38;5;124m'\u001b[39m\u001b[38;5;124m... aws command: \u001b[39m\u001b[38;5;132;01m{\u001b[39;00mcmd\u001b[38;5;132;01m}\u001b[39;00m\u001b[38;5;124m'\u001b[39m)\n\u001b[0;32m---> 33\u001b[0m     \u001b[38;5;28;01mwith\u001b[39;00m \u001b[43msuppress_stdout\u001b[49m():\n\u001b[1;32m     34\u001b[0m        os\u001b[38;5;241m.\u001b[39msystem(cmd)\n\u001b[1;32m     35\u001b[0m \u001b[38;5;28;01melse\u001b[39;00m:\n",
      "\u001b[0;31mNameError\u001b[0m: name 'suppress_stdout' is not defined"
     ]
    }
   ],
   "source": [
    "push_nc_dir_to_ec2(nc_root_dir_ec2, root_dest_s3_name)"
   ]
  },
  {
   "cell_type": "code",
   "execution_count": null,
   "id": "4a216f6f-f91e-4da4-9b02-3ac3dd6db24f",
   "metadata": {},
   "outputs": [],
   "source": []
  }
 ],
 "metadata": {
  "kernelspec": {
   "display_name": "Python 3 (ipykernel)",
   "language": "python",
   "name": "python3"
  },
  "language_info": {
   "codemirror_mode": {
    "name": "ipython",
    "version": 3
   },
   "file_extension": ".py",
   "mimetype": "text/x-python",
   "name": "python",
   "nbconvert_exporter": "python",
   "pygments_lexer": "ipython3",
   "version": "3.11.8"
  }
 },
 "nbformat": 4,
 "nbformat_minor": 5
}
