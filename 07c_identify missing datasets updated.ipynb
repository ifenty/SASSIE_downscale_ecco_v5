{
 "cells": [
  {
   "cell_type": "markdown",
   "id": "34bc8aa1-f2dc-4e66-abd7-3fa16062e781",
   "metadata": {},
   "source": [
    "# Identify missing datasets"
   ]
  },
  {
   "cell_type": "code",
   "execution_count": 1,
   "id": "ae0a1ef2-232a-4af0-9d5b-15e1c4f8a88b",
   "metadata": {},
   "outputs": [],
   "source": [
    "## import required packages\n",
    "import numpy as np\n",
    "import matplotlib.pyplot as plt\n",
    "import xarray as xr\n",
    "import s3fs\n",
    "import pandas as pd\n",
    "from datetime import datetime\n",
    "import json"
   ]
  },
  {
   "cell_type": "markdown",
   "id": "ef665bcb-5c07-4c96-acb2-9ada57589b51",
   "metadata": {},
   "source": [
    "### Generate list of dates for complete dataset"
   ]
  },
  {
   "cell_type": "code",
   "execution_count": 2,
   "id": "9ae29f2a-c53a-458a-b4ae-66fe314334f4",
   "metadata": {},
   "outputs": [],
   "source": [
    "## create list of all expected dates for a complete daily mean dataset\n",
    "dates = pd.date_range(start=\"2014-01-15\",end=\"2021-02-07\").tolist()\n",
    "date_list_complete = []\n",
    "for i in range(len(dates)):\n",
    "    date_list_complete.append(str(dates[i])[:10])"
   ]
  },
  {
   "cell_type": "code",
   "execution_count": 3,
   "id": "8876b73f-ccb3-4247-9615-655dcc052712",
   "metadata": {},
   "outputs": [
    {
     "data": {
      "text/plain": [
       "2581"
      ]
     },
     "execution_count": 3,
     "metadata": {},
     "output_type": "execute_result"
    }
   ],
   "source": [
    "len(date_list_complete)"
   ]
  },
  {
   "cell_type": "markdown",
   "id": "2e3ceb87-3339-49eb-9fb6-23529c25a49d",
   "metadata": {},
   "source": [
    "For a complete dataset, there should be 2581 netCDFs, one for each day"
   ]
  },
  {
   "cell_type": "markdown",
   "id": "9781a6a9-9e1f-4a23-be62-264453131d2b",
   "metadata": {},
   "source": [
    "### Create dictionary for missing dates for each dataset using processed datasets (netCDF filenames)"
   ]
  },
  {
   "cell_type": "code",
   "execution_count": 4,
   "id": "f8a3d45c-ce05-46ec-9c37-fa9146df6a8c",
   "metadata": {},
   "outputs": [],
   "source": [
    "def find_missing_dates(date_list_complete, file_dates_list):\n",
    "    return [string for string in date_list_complete if string not in file_dates_list]"
   ]
  },
  {
   "cell_type": "code",
   "execution_count": 5,
   "id": "d25146bc-9fcd-4f2e-a07f-b690c40d796d",
   "metadata": {},
   "outputs": [],
   "source": [
    "def identify_missing_datasets(variables_list, s3_netcdf_dir, sassie_s3 = True):\n",
    "\n",
    "    ## create list of all expected dates for a complete daily mean dataset\n",
    "    dates = pd.date_range(start=\"2014-01-15\",end=\"2021-02-07\").tolist()\n",
    "    date_list_complete = []\n",
    "    for i in range(len(dates)):\n",
    "        date_list_complete.append(str(dates[i])[:10])\n",
    "\n",
    "    if sassie_s3:\n",
    "        s3 = s3fs.S3FileSystem(anon=False) # need to manually add key\n",
    "    else:\n",
    "        s3 = s3fs.S3FileSystem(anon=False)\n",
    "\n",
    "    ## create dict for final list of variables and missing dates\n",
    "    sassie_ecco_variable_gaps = dict()\n",
    "    \n",
    "    for variable in variables_list:\n",
    "        \n",
    "        ## find filenames for variable\n",
    "        file_list = np.sort(s3.glob(f'{s3_netcdf_dir}{variable}/*.nc'))\n",
    "    \n",
    "        # construct url form of filenames\n",
    "        # data_urls = ['s3://' + f for f in file_list]\n",
    "\n",
    "        ## get list of dates from netcdf filenames\n",
    "        file_dates_list = []\n",
    "        for netcdf in file_list:\n",
    "            file_dates_list.append(netcdf.split('/')[-1].split('_')[-6])\n",
    "\n",
    "        ## identify missing dates\n",
    "        missing_dates_list = find_missing_dates(date_list_complete, file_dates_list)\n",
    "\n",
    "        sassie_ecco_variable_gaps[variable] = missing_dates_list\n",
    "\n",
    "        print(f'{variable} is missing {len(missing_dates_list)}')\n",
    "\n",
    "    return sassie_ecco_variable_gaps"
   ]
  },
  {
   "cell_type": "markdown",
   "id": "e69b3d6c-1a7f-4350-b486-c8e66ad45cab",
   "metadata": {},
   "source": [
    "#### Run function for all variable directories"
   ]
  },
  {
   "cell_type": "code",
   "execution_count": 6,
   "id": "f4f03c0d-9bc1-4cb5-9f4f-369bd3bb8fde",
   "metadata": {},
   "outputs": [],
   "source": [
    "var_list_all = [\"SALT_AVG_DAILY\",\n",
    "                \"THETA_AVG_DAILY\",\n",
    "                \"UVEL_AVG_DAILY\",\n",
    "                \"VVEL_AVG_DAILY\",\n",
    "                \"WVEL_AVG_DAILY\",\n",
    "                \"KPPdiffS_AVG_DAILY\",\n",
    "                \"KPPdiffT_AVG_DAILY\",\n",
    "                \"KPPviscA_AVG_DAILY\",\n",
    "                \"ETAN_AVG_DAILY\",\n",
    "                \"PHIBOT_AVG_DAILY\",\n",
    "                \"sIceLoad_AVG_DAILY\",\n",
    "                \"KPPhbl_AVG_DAILY\",\n",
    "                \"EXFaqh_AVG_DAILY\",\n",
    "                \"EXFatemp_AVG_DAILY\",\n",
    "                \"EXFempmr_AVG_DAILY\",\n",
    "                \"EXFevap_AVG_DAILY\",\n",
    "                \"EXFpreci_AVG_DAILY\",\n",
    "                \"EXFroff_AVG_DAILY\",\n",
    "                \"EXFqnet_AVG_DAILY\",\n",
    "                \"EXFhl_AVG_DAILY\",\n",
    "                \"EXFhs_AVG_DAILY\",\n",
    "                \"EXFlwdn_AVG_DAILY\",\n",
    "                \"EXFlwnet_AVG_DAILY\",\n",
    "                \"EXFswdn_AVG_DAILY\",\n",
    "                \"EXFswnet_AVG_DAILY\",\n",
    "                \"EXFuwind_AVG_DAILY\",\n",
    "                \"EXFtaux_AVG_DAILY\",\n",
    "                \"EXFvwind_AVG_DAILY\",\n",
    "                \"EXFtauy_AVG_DAILY\",\n",
    "                \"oceFWflx_AVG_DAILY\",\n",
    "                \"oceQnet_AVG_DAILY\",\n",
    "                \"oceQsw_AVG_DAILY\",\n",
    "                \"oceTAUX_AVG_DAILY\",\n",
    "                \"oceTAUY_AVG_DAILY\",\n",
    "                \"SFLUX_AVG_DAILY\",\n",
    "                \"TFLUX_AVG_DAILY\",\n",
    "                \"PHIHYD_AVG_DAILY\",\n",
    "                \"PHIHYDcR_AVG_DAILY\",\n",
    "                \"RHOAnoma_AVG_DAILY\",\n",
    "                \"SIatmFW_AVG_DAILY\",\n",
    "                \"SIatmQnt_AVG_DAILY\",\n",
    "                \"SIarea_AVG_DAILY\",\n",
    "                \"SIheff_AVG_DAILY\",\n",
    "                \"SIhsnow_AVG_DAILY\",\n",
    "                \"SIuice_AVG_DAILY\",\n",
    "                \"SIvice_AVG_DAILY\",\n",
    "                \"ADVr_SLT_AVG_DAILY\",\n",
    "                \"ADVr_TH_AVG_DAILY\",\n",
    "                \"ADVxHEFF_AVG_DAILY\",\n",
    "                \"ADVxSNOW_AVG_DAILY\",\n",
    "                \"ADVyHEFF_AVG_DAILY\",\n",
    "                \"ADVySNOW_AVG_DAILY\",\n",
    "                \"ADVx_SLT_AVG_DAILY\",\n",
    "                \"ADVx_TH_AVG_DAILY\",\n",
    "                \"ADVy_SLT_AVG_DAILY\",\n",
    "                \"ADVy_TH_AVG_DAILY\",\n",
    "                \"DFrE_SLT_AVG_DAILY\",\n",
    "                \"DFrE_TH_AVG_DAILY\",\n",
    "                \"DFrI_SLT_AVG_DAILY\",\n",
    "                \"DFrI_TH_AVG_DAILY\",\n",
    "                \"DFxE_SLT_AVG_DAILY\",\n",
    "                \"DFxE_TH_AVG_DAILY\",\n",
    "                \"DFyE_SLT_AVG_DAILY\",\n",
    "                \"DFyE_TH_AVG_DAILY\",\n",
    "                \"UVELMASS_AVG_DAILY\",\n",
    "                \"VVELMASS_AVG_DAILY\",\n",
    "                \"WVELMASS_AVG_DAILY\"]"
   ]
  },
  {
   "cell_type": "code",
   "execution_count": 7,
   "id": "69116907-734a-4d87-a5fa-86191c7e31db",
   "metadata": {},
   "outputs": [
    {
     "data": {
      "text/plain": [
       "67"
      ]
     },
     "execution_count": 7,
     "metadata": {},
     "output_type": "execute_result"
    }
   ],
   "source": [
    "## check number\n",
    "len(var_list_all)"
   ]
  },
  {
   "cell_type": "markdown",
   "id": "b4347d6e-9b53-4027-b1e7-ed85fb1908e6",
   "metadata": {},
   "source": [
    "##### First run for ECCO s3 bucket"
   ]
  },
  {
   "cell_type": "code",
   "execution_count": 8,
   "id": "80d3cbad-6f21-450e-9f79-ee47a86352a9",
   "metadata": {},
   "outputs": [],
   "source": [
    "## s3 directory\n",
    "ecco_s3_netcdf_dir = 's3://ecco-processed-data/SASSIE/N1/V1/HH/NETCDF/'"
   ]
  },
  {
   "cell_type": "code",
   "execution_count": 9,
   "id": "c82f6f66-fefd-4479-b335-f18e58a61f82",
   "metadata": {},
   "outputs": [
    {
     "name": "stdout",
     "output_type": "stream",
     "text": [
      "SALT_AVG_DAILY is missing 2\n",
      "THETA_AVG_DAILY is missing 2\n",
      "UVEL_AVG_DAILY is missing 16\n",
      "VVEL_AVG_DAILY is missing 16\n",
      "WVEL_AVG_DAILY is missing 16\n",
      "KPPdiffS_AVG_DAILY is missing 1811\n",
      "KPPdiffT_AVG_DAILY is missing 1811\n",
      "KPPviscA_AVG_DAILY is missing 2133\n",
      "ETAN_AVG_DAILY is missing 16\n",
      "PHIBOT_AVG_DAILY is missing 16\n",
      "sIceLoad_AVG_DAILY is missing 16\n",
      "KPPhbl_AVG_DAILY is missing 134\n",
      "EXFaqh_AVG_DAILY is missing 2\n",
      "EXFatemp_AVG_DAILY is missing 2\n",
      "EXFempmr_AVG_DAILY is missing 2\n",
      "EXFevap_AVG_DAILY is missing 2\n",
      "EXFpreci_AVG_DAILY is missing 2\n",
      "EXFroff_AVG_DAILY is missing 2\n",
      "EXFqnet_AVG_DAILY is missing 2\n",
      "EXFhl_AVG_DAILY is missing 2\n",
      "EXFhs_AVG_DAILY is missing 2\n",
      "EXFlwdn_AVG_DAILY is missing 2\n",
      "EXFlwnet_AVG_DAILY is missing 2\n",
      "EXFswdn_AVG_DAILY is missing 2\n",
      "EXFswnet_AVG_DAILY is missing 2\n",
      "EXFuwind_AVG_DAILY is missing 2\n",
      "EXFtaux_AVG_DAILY is missing 2\n",
      "EXFvwind_AVG_DAILY is missing 2\n",
      "EXFtauy_AVG_DAILY is missing 2\n",
      "oceFWflx_AVG_DAILY is missing 2\n",
      "oceQnet_AVG_DAILY is missing 2\n",
      "oceQsw_AVG_DAILY is missing 2\n",
      "oceTAUX_AVG_DAILY is missing 2\n",
      "oceTAUY_AVG_DAILY is missing 2\n",
      "SFLUX_AVG_DAILY is missing 2\n",
      "TFLUX_AVG_DAILY is missing 2\n",
      "PHIHYD_AVG_DAILY is missing 2562\n",
      "PHIHYDcR_AVG_DAILY is missing 2562\n",
      "RHOAnoma_AVG_DAILY is missing 2576\n",
      "SIatmFW_AVG_DAILY is missing 2\n",
      "SIatmQnt_AVG_DAILY is missing 2\n",
      "SIarea_AVG_DAILY is missing 2\n",
      "SIheff_AVG_DAILY is missing 2\n",
      "SIhsnow_AVG_DAILY is missing 2\n",
      "SIuice_AVG_DAILY is missing 2\n",
      "SIvice_AVG_DAILY is missing 2\n",
      "ADVr_SLT_AVG_DAILY is missing 33\n",
      "ADVr_TH_AVG_DAILY is missing 33\n",
      "ADVxHEFF_AVG_DAILY is missing 2\n",
      "ADVxSNOW_AVG_DAILY is missing 2\n",
      "ADVyHEFF_AVG_DAILY is missing 2\n",
      "ADVySNOW_AVG_DAILY is missing 2\n",
      "ADVx_SLT_AVG_DAILY is missing 78\n",
      "ADVx_TH_AVG_DAILY is missing 78\n",
      "ADVy_SLT_AVG_DAILY is missing 78\n",
      "ADVy_TH_AVG_DAILY is missing 78\n",
      "DFrE_SLT_AVG_DAILY is missing 2107\n",
      "DFrE_TH_AVG_DAILY is missing 2107\n",
      "DFrI_SLT_AVG_DAILY is missing 2341\n",
      "DFrI_TH_AVG_DAILY is missing 2341\n",
      "DFxE_SLT_AVG_DAILY is missing 2581\n",
      "DFxE_TH_AVG_DAILY is missing 2581\n",
      "DFyE_SLT_AVG_DAILY is missing 2581\n",
      "DFyE_TH_AVG_DAILY is missing 2581\n",
      "UVELMASS_AVG_DAILY is missing 136\n",
      "VVELMASS_AVG_DAILY is missing 136\n",
      "WVELMASS_AVG_DAILY is missing 136\n"
     ]
    }
   ],
   "source": [
    "ecco_s3_variable_gaps = identify_missing_datasets(var_list_all, ecco_s3_netcdf_dir, sassie_s3 = False)"
   ]
  },
  {
   "cell_type": "markdown",
   "id": "a0b8717b-04ed-4000-8e29-bad25f047fc6",
   "metadata": {},
   "source": [
    "Save dictionary as json output"
   ]
  },
  {
   "cell_type": "code",
   "execution_count": 11,
   "id": "071377c8-fd8c-4fd7-a706-7639628b1a12",
   "metadata": {},
   "outputs": [],
   "source": [
    "# save dictionary as json file\n",
    "file_name = \"sassie-ecco-missing-dates.json\"\n",
    "\n",
    "with open(file_name, 'w') as json_file:\n",
    "    json.dump(ecco_s3_variable_gaps, json_file)"
   ]
  },
  {
   "cell_type": "markdown",
   "id": "e008bad9-0595-483f-9a58-8816d2a70a85",
   "metadata": {},
   "source": [
    "***"
   ]
  },
  {
   "cell_type": "markdown",
   "id": "cb461b31-85f6-442c-aad8-0cbd6479236c",
   "metadata": {},
   "source": [
    "Then run for Fred's s3 bucket"
   ]
  },
  {
   "cell_type": "code",
   "execution_count": 97,
   "id": "0098e9fe-a013-487f-882c-972674f7f26a",
   "metadata": {},
   "outputs": [],
   "source": [
    "## s3 directory\n",
    "sassie_s3_netcdf_dir = 's3://podaac-dev-sassie/ECCO_model/N1/V1/HH/NETCDF/'"
   ]
  },
  {
   "cell_type": "code",
   "execution_count": 98,
   "id": "b15854d8-87a9-495c-8a97-c3d55118a030",
   "metadata": {},
   "outputs": [
    {
     "name": "stdout",
     "output_type": "stream",
     "text": [
      "SALT_AVG_DAILY is missing 2\n",
      "THETA_AVG_DAILY is missing 175\n",
      "UVEL_AVG_DAILY is missing 16\n",
      "VVEL_AVG_DAILY is missing 16\n",
      "WVEL_AVG_DAILY is missing 16\n",
      "KPPdiffS_AVG_DAILY is missing 1811\n",
      "KPPdiffT_AVG_DAILY is missing 1811\n",
      "KPPviscA_AVG_DAILY is missing 2133\n",
      "ETAN_AVG_DAILY is missing 16\n",
      "PHIBOT_AVG_DAILY is missing 16\n",
      "sIceLoad_AVG_DAILY is missing 16\n",
      "KPPhbl_AVG_DAILY is missing 134\n",
      "EXFaqh_AVG_DAILY is missing 2\n",
      "EXFatemp_AVG_DAILY is missing 2\n",
      "EXFempmr_AVG_DAILY is missing 2\n",
      "EXFevap_AVG_DAILY is missing 2\n",
      "EXFpreci_AVG_DAILY is missing 2\n",
      "EXFroff_AVG_DAILY is missing 2\n",
      "EXFqnet_AVG_DAILY is missing 2\n",
      "EXFhl_AVG_DAILY is missing 2\n",
      "EXFhs_AVG_DAILY is missing 2\n",
      "EXFlwdn_AVG_DAILY is missing 2\n",
      "EXFlwnet_AVG_DAILY is missing 2\n",
      "EXFswdn_AVG_DAILY is missing 2\n",
      "EXFswnet_AVG_DAILY is missing 2\n",
      "EXFuwind_AVG_DAILY is missing 2\n",
      "EXFtaux_AVG_DAILY is missing 2\n",
      "EXFvwind_AVG_DAILY is missing 2\n",
      "EXFtauy_AVG_DAILY is missing 2\n",
      "oceFWflx_AVG_DAILY is missing 2\n",
      "oceQnet_AVG_DAILY is missing 2\n",
      "oceQsw_AVG_DAILY is missing 2\n",
      "oceTAUX_AVG_DAILY is missing 2\n",
      "oceTAUY_AVG_DAILY is missing 2\n",
      "SFLUX_AVG_DAILY is missing 2\n",
      "TFLUX_AVG_DAILY is missing 2\n",
      "PHIHYD_AVG_DAILY is missing 2562\n",
      "PHIHYDcR_AVG_DAILY is missing 2562\n",
      "RHOAnoma_AVG_DAILY is missing 2576\n",
      "SIatmFW_AVG_DAILY is missing 2\n",
      "SIatmQnt_AVG_DAILY is missing 2\n",
      "SIarea_AVG_DAILY is missing 2\n",
      "SIheff_AVG_DAILY is missing 2\n",
      "SIhsnow_AVG_DAILY is missing 2\n",
      "SIuice_AVG_DAILY is missing 2\n",
      "SIvice_AVG_DAILY is missing 2\n",
      "ADVr_SLT_AVG_DAILY is missing 33\n",
      "ADVr_TH_AVG_DAILY is missing 33\n",
      "ADVxHEFF_AVG_DAILY is missing 2\n",
      "ADVxSNOW_AVG_DAILY is missing 2\n",
      "ADVyHEFF_AVG_DAILY is missing 2\n",
      "ADVySNOW_AVG_DAILY is missing 2\n",
      "ADVx_SLT_AVG_DAILY is missing 78\n",
      "ADVx_TH_AVG_DAILY is missing 78\n",
      "ADVy_SLT_AVG_DAILY is missing 502\n",
      "ADVy_TH_AVG_DAILY is missing 78\n",
      "DFrE_SLT_AVG_DAILY is missing 2107\n",
      "DFrE_TH_AVG_DAILY is missing 2107\n",
      "DFrI_SLT_AVG_DAILY is missing 2341\n",
      "DFrI_TH_AVG_DAILY is missing 2341\n",
      "DFxE_SLT_AVG_DAILY is missing 2581\n",
      "DFxE_TH_AVG_DAILY is missing 2581\n",
      "DFyE_SLT_AVG_DAILY is missing 2581\n",
      "DFyE_TH_AVG_DAILY is missing 2581\n",
      "UVELMASS_AVG_DAILY is missing 136\n",
      "VVELMASS_AVG_DAILY is missing 217\n",
      "WVELMASS_AVG_DAILY is missing 136\n"
     ]
    }
   ],
   "source": [
    "sassie_s3_variable_gaps = identify_missing_datasets(var_list_all, sassie_s3_netcdf_dir, sassie_s3 = True)"
   ]
  },
  {
   "cell_type": "code",
   "execution_count": 77,
   "id": "00adf82f-abea-47be-a3ad-5655b4937260",
   "metadata": {},
   "outputs": [
    {
     "data": {
      "text/plain": [
       "['2014-04-24', '2015-04-09']"
      ]
     },
     "execution_count": 77,
     "metadata": {},
     "output_type": "execute_result"
    }
   ],
   "source": [
    "## look at one variable as an example\n",
    "sassie_s3_variable_gaps['ADVySNOW_AVG_DAILY']"
   ]
  },
  {
   "cell_type": "markdown",
   "id": "f6808be3-a08f-4893-a697-5e8873c760c4",
   "metadata": {},
   "source": [
    "***"
   ]
  },
  {
   "cell_type": "markdown",
   "id": "dd08933e-114a-4265-ad59-a9456a1263e5",
   "metadata": {},
   "source": [
    "See which files haven't been transferred to Fred's bucket"
   ]
  },
  {
   "cell_type": "code",
   "execution_count": 207,
   "id": "6ba0484e-4f24-4860-8c6a-e2ea9ec01b38",
   "metadata": {},
   "outputs": [],
   "source": [
    "def get_dates(file_list):\n",
    "    dates_list = []\n",
    "    for file in file_list:\n",
    "        date_tmp = file.split('/')[-1].split('_')[-6]\n",
    "        dates_list.append(date_tmp)\n",
    "    return dates_list"
   ]
  },
  {
   "cell_type": "code",
   "execution_count": 235,
   "id": "449f3687-07ad-4aea-a104-bb08f3341c52",
   "metadata": {},
   "outputs": [],
   "source": [
    "def find_mismatch_in_var(file_list_ecco, file_list_sassie):\n",
    "    set1 = set(file_list_ecco)\n",
    "    set2 = set(file_list_sassie)\n",
    "    \n",
    "    # Elements present in list1 but not in list2\n",
    "    mismatch_in_lists = list(set1 - set2)\n",
    "    \n",
    "    return mismatch_in_lists"
   ]
  },
  {
   "cell_type": "code",
   "execution_count": 247,
   "id": "8be0fe88-7a61-4e8d-ad8b-5a9140dbb021",
   "metadata": {},
   "outputs": [],
   "source": [
    "def find_mismatch(variable):\n",
    "\n",
    "    ## get full list of variables for ecco s3\n",
    "    s3 = s3fs.S3FileSystem(anon=False)\n",
    "    ecco_s3_netcdf_dir = 's3://ecco-processed-data/SASSIE/N1/V1/HH/NETCDF/'\n",
    "    file_list_ecco = np.sort(s3.glob(f'{s3_netcdf_dir}{variable}/*.nc'))\n",
    "    \n",
    "    ## get full list of variables for sassie s3\n",
    "    s3 = s3fs.S3FileSystem(anon=False)\n",
    "    sassie_s3_netcdf_dir = 's3://podaac-dev-sassie/ECCO_model/N1/V1/HH/NETCDF/'\n",
    "    file_list_sassie = np.sort(s3.glob(f'{sassie_s3_netcdf_dir}{variable}/*.nc'))\n",
    "\n",
    "    dates_ecco = get_dates(file_list_ecco)\n",
    "    dates_sassie = get_dates(file_list_sassie)\n",
    "    missing_dates = find_mismatch_in_var(dates_ecco, dates_sassie)\n",
    "    \n",
    "    print(len(missing_dates))\n",
    "    print(np.sort(missing_dates)[0:10])\n",
    "\n",
    "    return np.sort(missing_dates)"
   ]
  },
  {
   "cell_type": "code",
   "execution_count": 248,
   "id": "874594d7-b9f9-4308-b594-eab15b7f0f15",
   "metadata": {},
   "outputs": [
    {
     "name": "stdout",
     "output_type": "stream",
     "text": [
      "173\n",
      "['2020-08-15' '2020-08-16' '2020-08-17' '2020-08-18' '2020-08-19'\n",
      " '2020-08-20' '2020-08-21' '2020-08-22' '2020-08-23' '2020-08-24']\n"
     ]
    }
   ],
   "source": [
    "variable = 'THETA_AVG_DAILY'\n",
    "theta_mismatch = find_mismatch(variable)"
   ]
  },
  {
   "cell_type": "code",
   "execution_count": 249,
   "id": "7627a55f-bbc7-47df-a7b3-23c6c18b05a4",
   "metadata": {},
   "outputs": [
    {
     "name": "stdout",
     "output_type": "stream",
     "text": [
      "424\n",
      "['2019-09-24' '2019-09-25' '2019-09-26' '2019-09-27' '2019-09-28'\n",
      " '2019-09-29' '2019-09-30' '2019-10-01' '2019-10-02' '2019-10-03']\n"
     ]
    }
   ],
   "source": [
    "variable = 'ADVy_SLT_AVG_DAILY'\n",
    "advy_slt_mismatch = find_mismatch(variable)"
   ]
  },
  {
   "cell_type": "code",
   "execution_count": 252,
   "id": "d48e8a6a-483a-4743-a702-210193aee845",
   "metadata": {},
   "outputs": [
    {
     "name": "stdout",
     "output_type": "stream",
     "text": [
      "81\n",
      "['2020-01-24' '2020-01-25' '2020-01-26' '2020-01-27' '2020-01-28'\n",
      " '2020-01-29' '2020-01-30' '2020-01-31' '2020-02-01' '2020-02-02']\n"
     ]
    }
   ],
   "source": [
    "variable = 'VVELMASS_AVG_DAILY'\n",
    "vvel_mismatch = find_mismatch(variable)"
   ]
  },
  {
   "cell_type": "markdown",
   "id": "fbee8a66-4284-4acb-8571-bc49d2556d18",
   "metadata": {},
   "source": [
    "THETA: 173 files starting from '2020-08-15' to end <br>\n",
    "ADVy_SLT: 424 files starting from '2019-09-24' to end <br>\n",
    "VVELMASS: 81 files from '2020-01-24' to '2020-09-28' <br>"
   ]
  },
  {
   "cell_type": "markdown",
   "id": "41cca159-604a-4018-9356-eba21f6a047f",
   "metadata": {},
   "source": [
    "##### Compare datasets between Ian's and Fred's"
   ]
  },
  {
   "cell_type": "code",
   "execution_count": 151,
   "id": "b5a569d1-c9b9-4d8b-bdff-d122103e36cb",
   "metadata": {},
   "outputs": [
    {
     "name": "stdout",
     "output_type": "stream",
     "text": [
      "SALT_AVG_DAILY: 0\n",
      "THETA_AVG_DAILY: 173\n",
      "UVEL_AVG_DAILY: 0\n",
      "VVEL_AVG_DAILY: 0\n",
      "WVEL_AVG_DAILY: 0\n",
      "KPPdiffS_AVG_DAILY: 0\n",
      "KPPdiffT_AVG_DAILY: 0\n",
      "KPPviscA_AVG_DAILY: 0\n",
      "ETAN_AVG_DAILY: 0\n",
      "PHIBOT_AVG_DAILY: 0\n",
      "sIceLoad_AVG_DAILY: 0\n",
      "KPPhbl_AVG_DAILY: 0\n",
      "EXFaqh_AVG_DAILY: 0\n",
      "EXFatemp_AVG_DAILY: 0\n",
      "EXFempmr_AVG_DAILY: 0\n",
      "EXFevap_AVG_DAILY: 0\n",
      "EXFpreci_AVG_DAILY: 0\n",
      "EXFroff_AVG_DAILY: 0\n",
      "EXFqnet_AVG_DAILY: 0\n",
      "EXFhl_AVG_DAILY: 0\n",
      "EXFhs_AVG_DAILY: 0\n",
      "EXFlwdn_AVG_DAILY: 0\n",
      "EXFlwnet_AVG_DAILY: 0\n",
      "EXFswdn_AVG_DAILY: 0\n",
      "EXFswnet_AVG_DAILY: 0\n",
      "EXFuwind_AVG_DAILY: 0\n",
      "EXFtaux_AVG_DAILY: 0\n",
      "EXFvwind_AVG_DAILY: 0\n",
      "EXFtauy_AVG_DAILY: 0\n",
      "oceFWflx_AVG_DAILY: 0\n",
      "oceQnet_AVG_DAILY: 0\n",
      "oceQsw_AVG_DAILY: 0\n",
      "oceTAUX_AVG_DAILY: 0\n",
      "oceTAUY_AVG_DAILY: 0\n",
      "SFLUX_AVG_DAILY: 0\n",
      "TFLUX_AVG_DAILY: 0\n",
      "PHIHYD_AVG_DAILY: 0\n",
      "PHIHYDcR_AVG_DAILY: 0\n",
      "RHOAnoma_AVG_DAILY: 0\n",
      "SIatmFW_AVG_DAILY: 0\n",
      "SIatmQnt_AVG_DAILY: 0\n",
      "SIarea_AVG_DAILY: 0\n",
      "SIheff_AVG_DAILY: 0\n",
      "SIhsnow_AVG_DAILY: 0\n",
      "SIuice_AVG_DAILY: 0\n",
      "SIvice_AVG_DAILY: 0\n",
      "ADVr_SLT_AVG_DAILY: 0\n",
      "ADVr_TH_AVG_DAILY: 0\n",
      "ADVxHEFF_AVG_DAILY: 0\n",
      "ADVxSNOW_AVG_DAILY: 0\n",
      "ADVyHEFF_AVG_DAILY: 0\n",
      "ADVySNOW_AVG_DAILY: 0\n",
      "ADVx_SLT_AVG_DAILY: 0\n",
      "ADVx_TH_AVG_DAILY: 0\n",
      "ADVy_SLT_AVG_DAILY: 424\n",
      "ADVy_TH_AVG_DAILY: 0\n",
      "DFrE_SLT_AVG_DAILY: 0\n",
      "DFrE_TH_AVG_DAILY: 0\n",
      "DFrI_SLT_AVG_DAILY: 0\n",
      "DFrI_TH_AVG_DAILY: 0\n",
      "DFxE_SLT_AVG_DAILY: 0\n",
      "DFxE_TH_AVG_DAILY: 0\n",
      "DFyE_SLT_AVG_DAILY: 0\n",
      "DFyE_TH_AVG_DAILY: 0\n",
      "UVELMASS_AVG_DAILY: 0\n",
      "VVELMASS_AVG_DAILY: 81\n",
      "WVELMASS_AVG_DAILY: 0\n"
     ]
    }
   ],
   "source": [
    "for variable in var_list_all:\n",
    "    ## subtract number of files missing in ecco bucket from sassie bucket\n",
    "    diff_tmp = len(sassie_s3_variable_gaps[variable]) - len(ecco_s3_variable_gaps[variable])\n",
    "    \n",
    "    print(f'{variable}: {diff_tmp}')"
   ]
  },
  {
   "cell_type": "markdown",
   "id": "558d6f32-076f-4476-b030-275fd862d52b",
   "metadata": {},
   "source": [
    "***"
   ]
  },
  {
   "cell_type": "markdown",
   "id": "446f123c-0365-47c1-8619-d730bdd9a05b",
   "metadata": {},
   "source": [
    "Identify which variables are empty"
   ]
  },
  {
   "cell_type": "code",
   "execution_count": 11,
   "id": "8ed5c6d0-aaa1-4c2f-bb0e-53ee747e9cd0",
   "metadata": {},
   "outputs": [],
   "source": [
    "def find_variable_with_large_list(dictionary):\n",
    "    keys_with_gaps = []\n",
    "    \n",
    "    # Iterate through the dictionary\n",
    "    for key, value in dictionary.items():\n",
    "        # Check if the length of the list is more than XX dates\n",
    "        if len(value) > 2580:\n",
    "            keys_with_gaps.append(key)\n",
    "    \n",
    "    return keys_with_gaps"
   ]
  },
  {
   "cell_type": "code",
   "execution_count": 12,
   "id": "fdb5ecd7-c68b-4f00-8359-a4e70400c2c0",
   "metadata": {},
   "outputs": [],
   "source": [
    "variables_with_large_gaps = find_variable_with_large_list(sassie_ecco_variable_gaps)"
   ]
  },
  {
   "cell_type": "code",
   "execution_count": 13,
   "id": "97bcd2b9-2c66-4bcf-8ef8-bcef94d12cb4",
   "metadata": {},
   "outputs": [
    {
     "data": {
      "text/plain": [
       "['ADVr_SLT_AVG_DAILY',\n",
       " 'ADVr_TH_AVG_DAILY',\n",
       " 'ADVx_SLT_AVG_DAILY',\n",
       " 'ADVx_TH_AVG_DAILY',\n",
       " 'ADVy_SLT_AVG_DAILY',\n",
       " 'ADVy_TH_AVG_DAILY',\n",
       " 'DFrE_SLT_AVG_DAILY',\n",
       " 'DFrE_TH_AVG_DAILY',\n",
       " 'DFrI_SLT_AVG_DAILY',\n",
       " 'DFrI_TH_AVG_DAILY',\n",
       " 'DFxE_SLT_AVG_DAILY',\n",
       " 'DFxE_TH_AVG_DAILY',\n",
       " 'DFyE_SLT_AVG_DAILY',\n",
       " 'DFyE_TH_AVG_DAILY']"
      ]
     },
     "execution_count": 13,
     "metadata": {},
     "output_type": "execute_result"
    }
   ],
   "source": [
    "variables_with_large_gaps"
   ]
  },
  {
   "cell_type": "markdown",
   "id": "f7c08a70-b30a-4953-9bae-1c702e4616b1",
   "metadata": {},
   "source": [
    "### BOOKEEPING NOTES"
   ]
  },
  {
   "cell_type": "markdown",
   "id": "519cbdf6-37a7-492c-8d4d-1e60bc7e0385",
   "metadata": {},
   "source": [
    "63 datasets on s3 bucket now (identify missing 4)"
   ]
  },
  {
   "cell_type": "markdown",
   "id": "34825c09-0433-4b00-87b9-b70897986c58",
   "metadata": {},
   "source": [
    "9 items that need to be added to sassie cloud:"
   ]
  },
  {
   "cell_type": "code",
   "execution_count": null,
   "id": "8c3eb342-7cc0-49ba-af8b-a098ca61fe5f",
   "metadata": {},
   "outputs": [],
   "source": [
    "\"ADVx_TH_AVG_DAILY\"\n",
    "\"EXFuwind_AVG_DAILY\"\n",
    "\"KPPdiffT_AVG_DAILY\"\n",
    "\"KPPhbl_AVG_DAILY\"\n",
    "\"oceFWflx_AVG_DAILY\"\n",
    "\"SFLUX_AVG_DAILY\"\n",
    "\"SIatmQnt_AVG_DAILY\"\n",
    "\"SIuice_AVG_DAILY\"\n",
    "\"VVEL_AVG_DAILY\""
   ]
  },
  {
   "cell_type": "markdown",
   "id": "d797a2fc-7389-4889-b663-d2783623ca3a",
   "metadata": {},
   "source": [
    "What's on sassie cloud now (54)"
   ]
  },
  {
   "cell_type": "code",
   "execution_count": 73,
   "id": "77f235c0-48c4-4ae3-8829-bdf19507e7f4",
   "metadata": {},
   "outputs": [],
   "source": [
    "var_list = [\"ADVr_SLT_AVG_DAILY\",\n",
    "\"ADVr_TH_AVG_DAILY\",\n",
    "\"ADVxHEFF_AVG_DAILY\",\n",
    "\"ADVxSNOW_AVG_DAILY\",\n",
    "\"ADVx_SLT_AVG_DAILY\",\n",
    "\"ADVyHEFF_AVG_DAILY\",\n",
    "\"ADVySNOW_AVG_DAILY\",\n",
    "\"ADVy_SLT_AVG_DAILY\",\n",
    "\"ADVy_TH_AVG_DAILY\",\n",
    "\"DFrE_SLT_AVG_DAILY\",\n",
    "\"DFrE_TH_AVG_DAILY\",\n",
    "\"DFrI_SLT_AVG_DAILY\",\n",
    "\"DFrI_TH_AVG_DAILY\",\n",
    "\"ETAN_AVG_DAILY\",\n",
    "\"EXFaqh_AVG_DAILY\",\n",
    "\"EXFatemp_AVG_DAILY\",\n",
    "\"EXFempmr_AVG_DAILY\",\n",
    "\"EXFevap_AVG_DAILY\",\n",
    "\"EXFhl_AVG_DAILY\",\n",
    "\"EXFhs_AVG_DAILY\",\n",
    "\"EXFlwdn_AVG_DAILY\",\n",
    "\"EXFlwnet_AVG_DAILY\",\n",
    "\"EXFpreci_AVG_DAILY\",\n",
    "\"EXFqnet_AVG_DAILY\",\n",
    "\"EXFroff_AVG_DAILY\",\n",
    "\"EXFswdn_AVG_DAILY\",\n",
    "\"EXFswnet_AVG_DAILY\",\n",
    "\"EXFtaux_AVG_DAILY\",\n",
    "\"EXFtauy_AVG_DAILY\",\n",
    "\"EXFvwind_AVG_DAILY\",\n",
    "\"KPPdiffS_AVG_DAILY\",\n",
    "\"KPPviscA_AVG_DAILY\",\n",
    "\"PHIBOT_AVG_DAILY\",\n",
    "\"PHIHYD_AVG_DAILY\",\n",
    "\"PHIHYDcR_AVG_DAILY\",\n",
    "\"RHOAnoma_AVG_DAILY\",\n",
    "\"SALT_AVG_DAILY\",\n",
    "\"SIarea_AVG_DAILY\",\n",
    "\"SIatmFW_AVG_DAILY\",\n",
    "\"SIheff_AVG_DAILY\",\n",
    "\"SIhsnow_AVG_DAILY\",\n",
    "\"SIvice_AVG_DAILY\",\n",
    "\"TFLUX_AVG_DAILY\",\n",
    "\"THETA_AVG_DAILY\",\n",
    "\"UVELMASS_AVG_DAILY\",\n",
    "\"UVEL_AVG_DAILY\",\n",
    "\"VVELMASS_AVG_DAILY\",\n",
    "\"WVELMASS_AVG_DAILY\",\n",
    "\"WVEL_AVG_DAILY\",\n",
    "\"oceQnet_AVG_DAILY\",\n",
    "\"oceQsw_AVG_DAILY\",\n",
    "\"oceTAUX_AVG_DAILY\",\n",
    "\"oceTAUY_AVG_DAILY\",\n",
    "\"sIceLoad_AVG_DAILY\"]"
   ]
  },
  {
   "cell_type": "code",
   "execution_count": 75,
   "id": "60c959ad-d967-46c6-8806-5590b643cb87",
   "metadata": {},
   "outputs": [
    {
     "data": {
      "text/plain": [
       "54"
      ]
     },
     "execution_count": 75,
     "metadata": {},
     "output_type": "execute_result"
    }
   ],
   "source": [
    "len(var_list)"
   ]
  },
  {
   "cell_type": "code",
   "execution_count": 78,
   "id": "236167bf-ca0d-4a95-87ac-e3b62dd12a44",
   "metadata": {},
   "outputs": [
    {
     "data": {
      "text/plain": [
       "['ADVr_SLT_AVG_DAILY',\n",
       " 'ADVr_TH_AVG_DAILY',\n",
       " 'ADVxHEFF_AVG_DAILY',\n",
       " 'ADVxSNOW_AVG_DAILY',\n",
       " 'ADVx_SLT_AVG_DAILY',\n",
       " 'ADVyHEFF_AVG_DAILY',\n",
       " 'ADVySNOW_AVG_DAILY',\n",
       " 'ADVy_SLT_AVG_DAILY',\n",
       " 'ADVy_TH_AVG_DAILY',\n",
       " 'DFrE_SLT_AVG_DAILY',\n",
       " 'DFrE_TH_AVG_DAILY',\n",
       " 'DFrI_SLT_AVG_DAILY',\n",
       " 'DFrI_TH_AVG_DAILY',\n",
       " 'ETAN_AVG_DAILY',\n",
       " 'EXFaqh_AVG_DAILY',\n",
       " 'EXFatemp_AVG_DAILY',\n",
       " 'EXFempmr_AVG_DAILY',\n",
       " 'EXFevap_AVG_DAILY',\n",
       " 'EXFhl_AVG_DAILY',\n",
       " 'EXFhs_AVG_DAILY',\n",
       " 'EXFlwdn_AVG_DAILY',\n",
       " 'EXFlwnet_AVG_DAILY',\n",
       " 'EXFpreci_AVG_DAILY',\n",
       " 'EXFqnet_AVG_DAILY',\n",
       " 'EXFroff_AVG_DAILY',\n",
       " 'EXFswdn_AVG_DAILY',\n",
       " 'EXFswnet_AVG_DAILY',\n",
       " 'EXFtaux_AVG_DAILY',\n",
       " 'EXFtauy_AVG_DAILY',\n",
       " 'EXFvwind_AVG_DAILY',\n",
       " 'KPPdiffS_AVG_DAILY',\n",
       " 'KPPviscA_AVG_DAILY']"
      ]
     },
     "execution_count": 78,
     "metadata": {},
     "output_type": "execute_result"
    }
   ],
   "source": [
    "var_list[0:32]"
   ]
  },
  {
   "cell_type": "markdown",
   "id": "820a9eae-f7e7-45be-bce6-1a1fdb78abe9",
   "metadata": {},
   "source": [
    "### Look at 2D fields in sassie s3"
   ]
  },
  {
   "cell_type": "code",
   "execution_count": null,
   "id": "b0f74ffb-dcbe-4c28-bfd5-728e13547f4a",
   "metadata": {},
   "outputs": [],
   "source": [
    "'ETAN_AVG_DAILY'\n",
    "'PHIBOT_AVG_DAILY'\n",
    "'sIceLoad_AVG_DAILY'\n",
    "'KPPhbl_AVG_DAILY'\n",
    "'EXFaqh_AVG_DAILY'\n",
    "'EXFatemp_AVG_DAILY'\n",
    "'EXFempmr_AVG_DAILY'\n",
    "'EXFevap_AVG_DAILY'\n",
    "'EXFpreci_AVG_DAILY'\n",
    "'EXFroff_AVG_DAILY'\n",
    "'EXFqnet_AVG_DAILY'\n",
    "'EXFhl_AVG_DAILY'\n",
    "'EXFhs_AVG_DAILY'\n",
    "'EXFlwdn_AVG_DAILY'\n",
    "'EXFlwnet_AVG_DAILY'\n",
    "'EXFswdn_AVG_DAILY'\n",
    "'EXFswnet_AVG_DAILY'\n",
    "'EXFuwind_AVG_DAILY'\n",
    "'EXFtaux_AVG_DAILY'\n",
    "'EXFvwind_AVG_DAILY'\n",
    "'EXFtauy_AVG_DAILY'\n",
    "'oceFWflx_AVG_DAILY'\n",
    "'oceQnet_AVG_DAILY'\n",
    "'oceQsw_AVG_DAILY'\n",
    "'oceTAUX_AVG_DAILY'\n",
    "'oceTAUY_AVG_DAILY'\n",
    "'SFLUX_AVG_DAILY'\n",
    "'TFLUX_AVG_DAILY'\n",
    "'SIatmFW_AVG_DAILY'\n",
    "'SIatmQnt_AVG_DAILY'\n",
    "'SIarea_AVG_DAILY'\n",
    "'SIheff_AVG_DAILY'\n",
    "'SIhsnow_AVG_DAILY'\n",
    "'SIuice_AVG_DAILY'\n",
    "'SIvice_AVG_DAILY'\n",
    "'ADVxHEFF_AVG_DAILY'\n",
    "'ADVxSNOW_AVG_DAILY'\n",
    "'ADVyHEFF_AVG_DAILY'\n",
    "'ADVySNOW_AVG_DAILY'"
   ]
  },
  {
   "cell_type": "code",
   "execution_count": 86,
   "id": "e1bbcd1f-f53e-4b46-b90e-38ab4ccad6ec",
   "metadata": {},
   "outputs": [],
   "source": [
    "fields_2d = [\n",
    "    \"ETAN_AVG_DAILY\",\n",
    "    \"PHIBOT_AVG_DAILY\",\n",
    "    \"sIceLoad_AVG_DAILY\",\n",
    "    \"KPPhbl_AVG_DAILY\",\n",
    "    \"EXFaqh_AVG_DAILY\",\n",
    "    \"EXFatemp_AVG_DAILY\",\n",
    "    \"EXFempmr_AVG_DAILY\",\n",
    "    \"EXFevap_AVG_DAILY\",\n",
    "    \"EXFpreci_AVG_DAILY\",\n",
    "    \"EXFroff_AVG_DAILY\",\n",
    "    \"EXFqnet_AVG_DAILY\",\n",
    "    \"EXFhl_AVG_DAILY\",\n",
    "    \"EXFhs_AVG_DAILY\",\n",
    "    \"EXFlwdn_AVG_DAILY\",\n",
    "    \"EXFlwnet_AVG_DAILY\",\n",
    "    \"EXFswdn_AVG_DAILY\",\n",
    "    \"EXFswnet_AVG_DAILY\",\n",
    "    \"EXFuwind_AVG_DAILY\",\n",
    "    \"EXFtaux_AVG_DAILY\",\n",
    "    \"EXFvwind_AVG_DAILY\",\n",
    "    \"EXFtauy_AVG_DAILY\",\n",
    "    \"oceFWflx_AVG_DAILY\",\n",
    "    \"oceQnet_AVG_DAILY\",\n",
    "    \"oceQsw_AVG_DAILY\",\n",
    "    \"oceTAUX_AVG_DAILY\",\n",
    "    \"oceTAUY_AVG_DAILY\",\n",
    "    \"SFLUX_AVG_DAILY\",\n",
    "    \"TFLUX_AVG_DAILY\",\n",
    "    \"SIatmFW_AVG_DAILY\",\n",
    "    \"SIatmQnt_AVG_DAILY\",\n",
    "    \"SIarea_AVG_DAILY\",\n",
    "    \"SIheff_AVG_DAILY\",\n",
    "    \"SIhsnow_AVG_DAILY\",\n",
    "    \"SIuice_AVG_DAILY\",\n",
    "    \"SIvice_AVG_DAILY\",\n",
    "    \"ADVxHEFF_AVG_DAILY\",\n",
    "    \"ADVxSNOW_AVG_DAILY\",\n",
    "    \"ADVyHEFF_AVG_DAILY\",\n",
    "    \"ADVySNOW_AVG_DAILY\"\n",
    "]"
   ]
  },
  {
   "cell_type": "code",
   "execution_count": 87,
   "id": "6a0c9c98-094a-4d02-be20-c5dced474186",
   "metadata": {},
   "outputs": [],
   "source": [
    "## s3 directory\n",
    "sassie_s3_netcdf_dir = 's3://podaac-dev-sassie/ECCO_model/N1/V1/HH/NETCDF/'"
   ]
  },
  {
   "cell_type": "code",
   "execution_count": 89,
   "id": "d5f886cb-3a79-4b91-8700-3bb374d4c990",
   "metadata": {},
   "outputs": [
    {
     "name": "stdout",
     "output_type": "stream",
     "text": [
      "ETAN_AVG_DAILY is missing 16\n",
      "PHIBOT_AVG_DAILY is missing 16\n",
      "sIceLoad_AVG_DAILY is missing 16\n",
      "KPPhbl_AVG_DAILY is missing 134\n",
      "EXFaqh_AVG_DAILY is missing 2\n",
      "EXFatemp_AVG_DAILY is missing 2\n",
      "EXFempmr_AVG_DAILY is missing 2\n",
      "EXFevap_AVG_DAILY is missing 2\n",
      "EXFpreci_AVG_DAILY is missing 2\n",
      "EXFroff_AVG_DAILY is missing 2\n",
      "EXFqnet_AVG_DAILY is missing 2\n",
      "EXFhl_AVG_DAILY is missing 2\n",
      "EXFhs_AVG_DAILY is missing 2\n",
      "EXFlwdn_AVG_DAILY is missing 2\n",
      "EXFlwnet_AVG_DAILY is missing 2\n",
      "EXFswdn_AVG_DAILY is missing 2\n",
      "EXFswnet_AVG_DAILY is missing 2\n",
      "EXFuwind_AVG_DAILY is missing 2\n",
      "EXFtaux_AVG_DAILY is missing 2\n",
      "EXFvwind_AVG_DAILY is missing 2\n",
      "EXFtauy_AVG_DAILY is missing 2\n",
      "oceFWflx_AVG_DAILY is missing 2\n",
      "oceQnet_AVG_DAILY is missing 2\n",
      "oceQsw_AVG_DAILY is missing 2\n",
      "oceTAUX_AVG_DAILY is missing 2\n",
      "oceTAUY_AVG_DAILY is missing 2\n",
      "SFLUX_AVG_DAILY is missing 2\n",
      "TFLUX_AVG_DAILY is missing 2\n",
      "SIatmFW_AVG_DAILY is missing 2\n",
      "SIatmQnt_AVG_DAILY is missing 2\n",
      "SIarea_AVG_DAILY is missing 2\n",
      "SIheff_AVG_DAILY is missing 2\n",
      "SIhsnow_AVG_DAILY is missing 2\n",
      "SIuice_AVG_DAILY is missing 2\n",
      "SIvice_AVG_DAILY is missing 2\n",
      "ADVxHEFF_AVG_DAILY is missing 2\n",
      "ADVxSNOW_AVG_DAILY is missing 2\n",
      "ADVyHEFF_AVG_DAILY is missing 2\n",
      "ADVySNOW_AVG_DAILY is missing 2\n"
     ]
    }
   ],
   "source": [
    "sassie_s3_2D_variable_gaps = identify_missing_datasets(fields_2d, sassie_s3_netcdf_dir, sassie_s3 = True)"
   ]
  },
  {
   "cell_type": "markdown",
   "id": "0492afb2-8a98-4e6d-aed4-1cf264a6b767",
   "metadata": {},
   "source": [
    "### Look at 2D and 3D fields"
   ]
  },
  {
   "cell_type": "code",
   "execution_count": 84,
   "id": "d6803b00-070c-446e-bb73-a4220ec46f39",
   "metadata": {},
   "outputs": [],
   "source": [
    "fields_2d = [\n",
    "    \"ETAN\",\n",
    "    \"PHIBOT\",\n",
    "    \"sIceLoad\",\n",
    "    \"KPPhbl\",\n",
    "    \"EXFaqh\",\n",
    "    \"EXFatemp\",\n",
    "    \"EXFempmr\",\n",
    "    \"EXFevap\",\n",
    "    \"EXFpreci\",\n",
    "    \"EXFroff\",\n",
    "    \"EXFqnet\",\n",
    "    \"EXFhl\",\n",
    "    \"EXFhs\",\n",
    "    \"EXFlwdn\",\n",
    "    \"EXFlwnet\",\n",
    "    \"EXFswdn\",\n",
    "    \"EXFswnet\",\n",
    "    \"EXFuwind\",\n",
    "    \"EXFtaux\",\n",
    "    \"EXFvwind\",\n",
    "    \"EXFtauy\",\n",
    "    \"oceFWflx\",\n",
    "    \"oceQnet\",\n",
    "    \"oceQsw\",\n",
    "    \"oceTAUX\",\n",
    "    \"oceTAUY\",\n",
    "    \"SFLUX\",\n",
    "    \"TFLUX\",\n",
    "    \"SIatmFW\",\n",
    "    \"SIatmQnt\",\n",
    "    \"SIarea\",\n",
    "    \"SIheff\",\n",
    "    \"SIhsnow\",\n",
    "    \"SIuice\",\n",
    "    \"SIvice\",\n",
    "    \"ADVxHEFF\",\n",
    "    \"ADVxSNOW\",\n",
    "    \"ADVyHEFF\",\n",
    "    \"ADVySNOW\"\n",
    "]"
   ]
  },
  {
   "cell_type": "code",
   "execution_count": null,
   "id": "7aa82657-6225-4994-8720-cc69644a3b62",
   "metadata": {},
   "outputs": [],
   "source": [
    "fields_3d = [\n",
    "    \"SALT\",\n",
    "    \"THETA\",\n",
    "    \"UVEL\",\n",
    "    \"VVEL\",\n",
    "    \"WVEL\",\n",
    "    \"KPPdiffS\",\n",
    "    \"KPPdiffT\",\n",
    "    \"KPPviscA\",\n",
    "    \"PHIHYD\",\n",
    "    \"PHIHYDcR\",\n",
    "    \"RHOAnoma\",\n",
    "    \"ADVr_SLT\",\n",
    "    \"ADVr_TH\",\n",
    "    \"ADVx_SLT\",\n",
    "    \"ADVx_TH\",\n",
    "    \"ADVy_SLT\",\n",
    "    \"ADVy_TH\",\n",
    "    \"DFrE_SLT\",\n",
    "    \"DFrE_TH\",\n",
    "    \"DFrI_SLT\",\n",
    "    \"DFrI_TH\",\n",
    "    \"DFxE_SLT\",\n",
    "    \"DFxE_TH\",\n",
    "    \"DFyE_SLT\",\n",
    "    \"DFyE_TH\",\n",
    "    \"UVELMASS\",\n",
    "    \"VVELMASS\",\n",
    "    \"WVELMASS\"\n",
    "]"
   ]
  }
 ],
 "metadata": {
  "kernelspec": {
   "display_name": "Python 3 (ipykernel)",
   "language": "python",
   "name": "python3"
  },
  "language_info": {
   "codemirror_mode": {
    "name": "ipython",
    "version": 3
   },
   "file_extension": ".py",
   "mimetype": "text/x-python",
   "name": "python",
   "nbconvert_exporter": "python",
   "pygments_lexer": "ipython3",
   "version": "3.11.8"
  }
 },
 "nbformat": 4,
 "nbformat_minor": 5
}
