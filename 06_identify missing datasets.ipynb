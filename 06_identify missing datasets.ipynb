{
 "cells": [
  {
   "cell_type": "markdown",
   "id": "34bc8aa1-f2dc-4e66-abd7-3fa16062e781",
   "metadata": {},
   "source": [
    "### Identify missing datasets"
   ]
  },
  {
   "cell_type": "code",
   "execution_count": 14,
   "id": "ae0a1ef2-232a-4af0-9d5b-15e1c4f8a88b",
   "metadata": {},
   "outputs": [],
   "source": [
    "## import required packages\n",
    "import numpy as np\n",
    "import matplotlib.pyplot as plt\n",
    "import xarray as xr\n",
    "import s3fs\n",
    "import pandas as pd\n",
    "from datetime import datetime"
   ]
  },
  {
   "cell_type": "markdown",
   "id": "f7c08a70-b30a-4953-9bae-1c702e4616b1",
   "metadata": {},
   "source": [
    "BOOKEEPING NOTES"
   ]
  },
  {
   "cell_type": "markdown",
   "id": "519cbdf6-37a7-492c-8d4d-1e60bc7e0385",
   "metadata": {},
   "source": [
    "63 datasets on s3 bucket now (identify missing 4)"
   ]
  },
  {
   "cell_type": "markdown",
   "id": "34825c09-0433-4b00-87b9-b70897986c58",
   "metadata": {},
   "source": [
    "9 items that need to be added to sassie cloud:"
   ]
  },
  {
   "cell_type": "code",
   "execution_count": null,
   "id": "8c3eb342-7cc0-49ba-af8b-a098ca61fe5f",
   "metadata": {},
   "outputs": [],
   "source": [
    "\"ADVx_TH_AVG_DAILY\"\n",
    "\"EXFuwind_AVG_DAILY\"\n",
    "\"KPPdiffT_AVG_DAILY\"\n",
    "\"KPPhbl_AVG_DAILY\"\n",
    "\"oceFWflx_AVG_DAILY\"\n",
    "\"SFLUX_AVG_DAILY\"\n",
    "\"SIatmQnt_AVG_DAILY\"\n",
    "\"SIuice_AVG_DAILY\"\n",
    "\"VVEL_AVG_DAILY\""
   ]
  },
  {
   "cell_type": "markdown",
   "id": "d797a2fc-7389-4889-b663-d2783623ca3a",
   "metadata": {},
   "source": [
    "What's on sassie cloud now (54)"
   ]
  },
  {
   "cell_type": "code",
   "execution_count": 73,
   "id": "77f235c0-48c4-4ae3-8829-bdf19507e7f4",
   "metadata": {},
   "outputs": [],
   "source": [
    "var_list = [\"ADVr_SLT_AVG_DAILY\",\n",
    "\"ADVr_TH_AVG_DAILY\",\n",
    "\"ADVxHEFF_AVG_DAILY\",\n",
    "\"ADVxSNOW_AVG_DAILY\",\n",
    "\"ADVx_SLT_AVG_DAILY\",\n",
    "\"ADVyHEFF_AVG_DAILY\",\n",
    "\"ADVySNOW_AVG_DAILY\",\n",
    "\"ADVy_SLT_AVG_DAILY\",\n",
    "\"ADVy_TH_AVG_DAILY\",\n",
    "\"DFrE_SLT_AVG_DAILY\",\n",
    "\"DFrE_TH_AVG_DAILY\",\n",
    "\"DFrI_SLT_AVG_DAILY\",\n",
    "\"DFrI_TH_AVG_DAILY\",\n",
    "\"ETAN_AVG_DAILY\",\n",
    "\"EXFaqh_AVG_DAILY\",\n",
    "\"EXFatemp_AVG_DAILY\",\n",
    "\"EXFempmr_AVG_DAILY\",\n",
    "\"EXFevap_AVG_DAILY\",\n",
    "\"EXFhl_AVG_DAILY\",\n",
    "\"EXFhs_AVG_DAILY\",\n",
    "\"EXFlwdn_AVG_DAILY\",\n",
    "\"EXFlwnet_AVG_DAILY\",\n",
    "\"EXFpreci_AVG_DAILY\",\n",
    "\"EXFqnet_AVG_DAILY\",\n",
    "\"EXFroff_AVG_DAILY\",\n",
    "\"EXFswdn_AVG_DAILY\",\n",
    "\"EXFswnet_AVG_DAILY\",\n",
    "\"EXFtaux_AVG_DAILY\",\n",
    "\"EXFtauy_AVG_DAILY\",\n",
    "\"EXFvwind_AVG_DAILY\",\n",
    "\"KPPdiffS_AVG_DAILY\",\n",
    "\"KPPviscA_AVG_DAILY\",\n",
    "\"PHIBOT_AVG_DAILY\",\n",
    "\"PHIHYD_AVG_DAILY\",\n",
    "\"PHIHYDcR_AVG_DAILY\",\n",
    "\"RHOAnoma_AVG_DAILY\",\n",
    "\"SALT_AVG_DAILY\",\n",
    "\"SIarea_AVG_DAILY\",\n",
    "\"SIatmFW_AVG_DAILY\",\n",
    "\"SIheff_AVG_DAILY\",\n",
    "\"SIhsnow_AVG_DAILY\",\n",
    "\"SIvice_AVG_DAILY\",\n",
    "\"TFLUX_AVG_DAILY\",\n",
    "\"THETA_AVG_DAILY\",\n",
    "\"UVELMASS_AVG_DAILY\",\n",
    "\"UVEL_AVG_DAILY\",\n",
    "\"VVELMASS_AVG_DAILY\",\n",
    "\"WVELMASS_AVG_DAILY\",\n",
    "\"WVEL_AVG_DAILY\",\n",
    "\"oceQnet_AVG_DAILY\",\n",
    "\"oceQsw_AVG_DAILY\",\n",
    "\"oceTAUX_AVG_DAILY\",\n",
    "\"oceTAUY_AVG_DAILY\",\n",
    "\"sIceLoad_AVG_DAILY\"]"
   ]
  },
  {
   "cell_type": "code",
   "execution_count": 75,
   "id": "60c959ad-d967-46c6-8806-5590b643cb87",
   "metadata": {},
   "outputs": [
    {
     "data": {
      "text/plain": [
       "54"
      ]
     },
     "execution_count": 75,
     "metadata": {},
     "output_type": "execute_result"
    }
   ],
   "source": [
    "len(var_list)"
   ]
  },
  {
   "cell_type": "code",
   "execution_count": 78,
   "id": "236167bf-ca0d-4a95-87ac-e3b62dd12a44",
   "metadata": {},
   "outputs": [
    {
     "data": {
      "text/plain": [
       "['ADVr_SLT_AVG_DAILY',\n",
       " 'ADVr_TH_AVG_DAILY',\n",
       " 'ADVxHEFF_AVG_DAILY',\n",
       " 'ADVxSNOW_AVG_DAILY',\n",
       " 'ADVx_SLT_AVG_DAILY',\n",
       " 'ADVyHEFF_AVG_DAILY',\n",
       " 'ADVySNOW_AVG_DAILY',\n",
       " 'ADVy_SLT_AVG_DAILY',\n",
       " 'ADVy_TH_AVG_DAILY',\n",
       " 'DFrE_SLT_AVG_DAILY',\n",
       " 'DFrE_TH_AVG_DAILY',\n",
       " 'DFrI_SLT_AVG_DAILY',\n",
       " 'DFrI_TH_AVG_DAILY',\n",
       " 'ETAN_AVG_DAILY',\n",
       " 'EXFaqh_AVG_DAILY',\n",
       " 'EXFatemp_AVG_DAILY',\n",
       " 'EXFempmr_AVG_DAILY',\n",
       " 'EXFevap_AVG_DAILY',\n",
       " 'EXFhl_AVG_DAILY',\n",
       " 'EXFhs_AVG_DAILY',\n",
       " 'EXFlwdn_AVG_DAILY',\n",
       " 'EXFlwnet_AVG_DAILY',\n",
       " 'EXFpreci_AVG_DAILY',\n",
       " 'EXFqnet_AVG_DAILY',\n",
       " 'EXFroff_AVG_DAILY',\n",
       " 'EXFswdn_AVG_DAILY',\n",
       " 'EXFswnet_AVG_DAILY',\n",
       " 'EXFtaux_AVG_DAILY',\n",
       " 'EXFtauy_AVG_DAILY',\n",
       " 'EXFvwind_AVG_DAILY',\n",
       " 'KPPdiffS_AVG_DAILY',\n",
       " 'KPPviscA_AVG_DAILY']"
      ]
     },
     "execution_count": 78,
     "metadata": {},
     "output_type": "execute_result"
    }
   ],
   "source": [
    "var_list[0:32]"
   ]
  },
  {
   "cell_type": "code",
   "execution_count": 44,
   "id": "9ae29f2a-c53a-458a-b4ae-66fe314334f4",
   "metadata": {},
   "outputs": [],
   "source": [
    "## create list of all expected dates\n",
    "dates = pd.date_range(start=\"2014-01-15\",end=\"2021-02-07\").tolist()\n",
    "date_list = []\n",
    "for i in range(len(dates)):\n",
    "    date_list.append(str(dates[i])[:10])"
   ]
  },
  {
   "cell_type": "code",
   "execution_count": 48,
   "id": "8876b73f-ccb3-4247-9615-655dcc052712",
   "metadata": {},
   "outputs": [
    {
     "data": {
      "text/plain": [
       "2581"
      ]
     },
     "execution_count": 48,
     "metadata": {},
     "output_type": "execute_result"
    }
   ],
   "source": [
    "len(date_list)"
   ]
  },
  {
   "cell_type": "code",
   "execution_count": null,
   "id": "d289077c-1428-4429-a07e-d72804fd2702",
   "metadata": {},
   "outputs": [],
   "source": [
    "s3 = s3fs.S3FileSystem(anon=False)\n",
    "\n",
    "## directory\n",
    "s3_netcdf_dir = 's3://ecco-processed-data/SASSIE/N1/V1/HH/NETCDF/'\n",
    "variable = 'THETA_AVG_DAILY'\n",
    "\n",
    "## THETA_day_mean_2014-01-15_ECCO_SASSIE_V1_HH_llc1080.nc\n",
    "\n",
    "## find filenames\n",
    "file_list = np.sort(s3.glob(f'{s3_netcdf_dir}{variable}/*.nc'))\n",
    "\n",
    "# construct url form of filenames\n",
    "data_urls = ['s3://' + f for f in file_list]"
   ]
  },
  {
   "cell_type": "code",
   "execution_count": 58,
   "id": "a1eb1c1c-e51f-4fd1-bee5-be53ea1656f8",
   "metadata": {},
   "outputs": [
    {
     "ename": "SyntaxError",
     "evalue": "invalid syntax (409078018.py, line 1)",
     "output_type": "error",
     "traceback": [
      "\u001b[0;36m  Cell \u001b[0;32mIn[58], line 1\u001b[0;36m\u001b[0m\n\u001b[0;31m    date_list[0] np.isin(\"THETA_day_mean_2014-01-15_ECCO_SASSIE_V1_HH_llc1080.nc\")\u001b[0m\n\u001b[0m                 ^\u001b[0m\n\u001b[0;31mSyntaxError\u001b[0m\u001b[0;31m:\u001b[0m invalid syntax\n"
     ]
    }
   ],
   "source": [
    "date_list[0] np.isin(\"THETA_day_mean_2014-01-15_ECCO_SASSIE_V1_HH_llc1080.nc\")"
   ]
  },
  {
   "cell_type": "code",
   "execution_count": 54,
   "id": "3594c912-b8f4-47fa-80f6-3a5ab217ae86",
   "metadata": {},
   "outputs": [],
   "source": [
    "s3fs = s3fs.S3FileSystem(anon=False)"
   ]
  },
  {
   "cell_type": "code",
   "execution_count": null,
   "id": "1683d0bf-dd59-4b35-84ec-9b52923b3615",
   "metadata": {},
   "outputs": [],
   "source": [
    "grid_file = s3fs.open('s3://ecco-processed-data/SASSIE/N1/V1/HH/NETCDF/GRID/GRID_GEOMETRY_SASSIE_HH_V1R1_NATIVE_LLC1080.nc')"
   ]
  },
  {
   "cell_type": "code",
   "execution_count": 52,
   "id": "9e4b8003-aac4-4a16-8577-cf58a0397452",
   "metadata": {},
   "outputs": [],
   "source": [
    "sg2 = xr.open_dataset(grid_file)"
   ]
  }
 ],
 "metadata": {
  "kernelspec": {
   "display_name": "Python 3 (ipykernel)",
   "language": "python",
   "name": "python3"
  },
  "language_info": {
   "codemirror_mode": {
    "name": "ipython",
    "version": 3
   },
   "file_extension": ".py",
   "mimetype": "text/x-python",
   "name": "python",
   "nbconvert_exporter": "python",
   "pygments_lexer": "ipython3",
   "version": "3.11.7"
  }
 },
 "nbformat": 4,
 "nbformat_minor": 5
}
