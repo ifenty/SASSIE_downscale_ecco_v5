{
 "cells": [
  {
   "cell_type": "code",
   "execution_count": 3,
   "id": "5c84f351-0d07-465d-9a4c-7d3910f915b5",
   "metadata": {},
   "outputs": [],
   "source": [
    "import tarfile\n",
    "import numpy as np\n",
    "# import xarray as xr\n",
    "# import netCDF4 as nc4"
   ]
  },
  {
   "cell_type": "code",
   "execution_count": 2,
   "id": "35cedabe-60f3-4cfb-8067-b5e949a994be",
   "metadata": {},
   "outputs": [],
   "source": [
    "## open example file \n",
    "targz_file = tarfile.open('./data/tar_gz_files/seaice_state_day_mean.0005810000.tar.gz') \n",
    "  \n",
    "## extracting file to produce *.data and *.meta files\n",
    "targz_file.extractall('./data') \n",
    "targz_file.close() "
   ]
  },
  {
   "cell_type": "markdown",
   "id": "fd00fe74-ad78-4651-b07c-49b1858359b5",
   "metadata": {},
   "source": [
    "From *.meta file:\n",
    " nDims = [   2 ];\n",
    " dimList = [\n",
    "         40,         1,        40,\n",
    "     102600,         1,    102600\n",
    " ];\n",
    " dataprec = [ 'float32' ];\n",
    " nrecords = [          3 ];\n",
    " timeStepNumber = [    5810400 ];\n",
    " timeInterval = [  6.971616000000E+08  6.972480000000E+08 ];\n",
    " missingValue = [ -9.99000000000000E+02 ];\n",
    " nFlds = [    3 ];\n",
    " fldList = {\n",
    " 'SIarea  ' 'SIheff  ' 'SIhsnow '\n",
    " };\n"
   ]
  },
  {
   "cell_type": "code",
   "execution_count": 4,
   "id": "ef08243f-b43e-44bd-9295-27ee5e4ee96b",
   "metadata": {},
   "outputs": [
    {
     "data": {
      "text/plain": [
       "array([0., 0., 0., ..., 0., 0., 0.], dtype='>f4')"
      ]
     },
     "execution_count": 4,
     "metadata": {},
     "output_type": "execute_result"
    }
   ],
   "source": [
    "## convert files from binary to ASCII\n",
    "\n",
    "## big-endian (>) and float32 (f4); (4 bytes and each byte has 8 bits=32)\n",
    "data = np.fromfile('./data/seaice_state_day_mean.0005810400.data','>f4') \n",
    "\n",
    "data"
   ]
  },
  {
   "cell_type": "code",
   "execution_count": null,
   "id": "fe4b45dd-6cef-4c5b-a85e-31e1b0260ec2",
   "metadata": {},
   "outputs": [],
   "source": []
  }
 ],
 "metadata": {
  "kernelspec": {
   "display_name": "Python 3 (ipykernel)",
   "language": "python",
   "name": "python3"
  },
  "language_info": {
   "codemirror_mode": {
    "name": "ipython",
    "version": 3
   },
   "file_extension": ".py",
   "mimetype": "text/x-python",
   "name": "python",
   "nbconvert_exporter": "python",
   "pygments_lexer": "ipython3",
   "version": "3.11.7"
  }
 },
 "nbformat": 4,
 "nbformat_minor": 5
}
