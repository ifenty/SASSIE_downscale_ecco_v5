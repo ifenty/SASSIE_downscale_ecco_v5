{
 "cells": [
  {
   "cell_type": "markdown",
   "id": "34bc8aa1-f2dc-4e66-abd7-3fa16062e781",
   "metadata": {},
   "source": [
    "# Identify missing datasets"
   ]
  },
  {
   "cell_type": "code",
   "execution_count": 1,
   "id": "ae0a1ef2-232a-4af0-9d5b-15e1c4f8a88b",
   "metadata": {},
   "outputs": [],
   "source": [
    "## import required packages\n",
    "import numpy as np\n",
    "import matplotlib.pyplot as plt\n",
    "import xarray as xr\n",
    "import s3fs\n",
    "import pandas as pd\n",
    "from datetime import datetime\n",
    "import json"
   ]
  },
  {
   "cell_type": "markdown",
   "id": "ef665bcb-5c07-4c96-acb2-9ada57589b51",
   "metadata": {},
   "source": [
    "### Generate list of dates for complete dataset"
   ]
  },
  {
   "cell_type": "code",
   "execution_count": 2,
   "id": "9ae29f2a-c53a-458a-b4ae-66fe314334f4",
   "metadata": {},
   "outputs": [],
   "source": [
    "## create list of all expected dates for a complete daily mean dataset\n",
    "dates = pd.date_range(start=\"2014-01-15\",end=\"2021-02-07\").tolist()\n",
    "date_list_complete = []\n",
    "for i in range(len(dates)):\n",
    "    date_list_complete.append(str(dates[i])[:10])"
   ]
  },
  {
   "cell_type": "code",
   "execution_count": 3,
   "id": "8876b73f-ccb3-4247-9615-655dcc052712",
   "metadata": {},
   "outputs": [
    {
     "data": {
      "text/plain": [
       "2581"
      ]
     },
     "execution_count": 3,
     "metadata": {},
     "output_type": "execute_result"
    }
   ],
   "source": [
    "len(date_list_complete)"
   ]
  },
  {
   "cell_type": "markdown",
   "id": "2e3ceb87-3339-49eb-9fb6-23529c25a49d",
   "metadata": {},
   "source": [
    "For a complete dataset, there should be 2581 netCDFs, one for each day"
   ]
  },
  {
   "cell_type": "markdown",
   "id": "9781a6a9-9e1f-4a23-be62-264453131d2b",
   "metadata": {},
   "source": [
    "### Create dictionary for missing dates for each dataset using processed datasets (netCDF filenames)"
   ]
  },
  {
   "cell_type": "code",
   "execution_count": 5,
   "id": "f8a3d45c-ce05-46ec-9c37-fa9146df6a8c",
   "metadata": {},
   "outputs": [],
   "source": [
    "def find_missing_dates(date_list_complete, file_dates_list):\n",
    "    return [string for string in date_list_complete if string not in file_dates_list]"
   ]
  },
  {
   "cell_type": "code",
   "execution_count": 6,
   "id": "d25146bc-9fcd-4f2e-a07f-b690c40d796d",
   "metadata": {},
   "outputs": [],
   "source": [
    "def identify_missing_datasets(variables_list, s3_netcdf_dir):\n",
    "\n",
    "    ## create list of all expected dates for a complete daily mean dataset\n",
    "    dates = pd.date_range(start=\"2014-01-15\",end=\"2021-02-07\").tolist()\n",
    "    date_list_complete = []\n",
    "    for i in range(len(dates)):\n",
    "        date_list_complete.append(str(dates[i])[:10])\n",
    "\n",
    "    s3 = s3fs.S3FileSystem(anon=False)\n",
    "\n",
    "    ## create dict for final list of variables and missing dates\n",
    "    sassie_ecco_variable_gaps = dict()\n",
    "    \n",
    "    for variable in variables_list:\n",
    "        \n",
    "        ## find filenames for variable\n",
    "        file_list = np.sort(s3.glob(f'{s3_netcdf_dir}{variable}/*.nc'))\n",
    "    \n",
    "        # construct url form of filenames\n",
    "        # data_urls = ['s3://' + f for f in file_list]\n",
    "\n",
    "        ## get list of dates from netcdf filenames\n",
    "        file_dates_list = []\n",
    "        for netcdf in file_list:\n",
    "            file_dates_list.append(netcdf.split('/')[-1].split('_')[3])\n",
    "\n",
    "        ## identify missing dates\n",
    "        missing_dates_list = find_missing_dates(date_list_complete, file_dates_list)\n",
    "\n",
    "        sassie_ecco_variable_gaps[variable] = missing_dates_list\n",
    "\n",
    "        print(f'{variable} is missing {len(missing_dates_list)}')\n",
    "\n",
    "    return sassie_ecco_variable_gaps"
   ]
  },
  {
   "cell_type": "markdown",
   "id": "e69b3d6c-1a7f-4350-b486-c8e66ad45cab",
   "metadata": {},
   "source": [
    "#### Run function for all variable directories"
   ]
  },
  {
   "cell_type": "code",
   "execution_count": 7,
   "id": "80d3cbad-6f21-450e-9f79-ee47a86352a9",
   "metadata": {},
   "outputs": [],
   "source": [
    "## s3 directory\n",
    "s3_netcdf_dir = 's3://ecco-processed-data/SASSIE/N1/V1/HH/NETCDF/'"
   ]
  },
  {
   "cell_type": "code",
   "execution_count": 8,
   "id": "f4f03c0d-9bc1-4cb5-9f4f-369bd3bb8fde",
   "metadata": {},
   "outputs": [],
   "source": [
    "var_list_all = [\"SALT_AVG_DAILY\",\n",
    "                \"THETA_AVG_DAILY\",\n",
    "                \"UVEL_AVG_DAILY\",\n",
    "                \"VVEL_AVG_DAILY\",\n",
    "                \"WVEL_AVG_DAILY\",\n",
    "                \"KPPdiffS_AVG_DAILY\",\n",
    "                \"KPPdiffT_AVG_DAILY\",\n",
    "                \"KPPviscA_AVG_DAILY\",\n",
    "                \"ETAN_AVG_DAILY\",\n",
    "                \"PHIBOT_AVG_DAILY\",\n",
    "                \"sIceLoad_AVG_DAILY\",\n",
    "                \"KPPhbl_AVG_DAILY\",\n",
    "                \"EXFaqh_AVG_DAILY\",\n",
    "                \"EXFatemp_AVG_DAILY\",\n",
    "                \"EXFempmr_AVG_DAILY\",\n",
    "                \"EXFevap_AVG_DAILY\",\n",
    "                \"EXFpreci_AVG_DAILY\",\n",
    "                \"EXFroff_AVG_DAILY\",\n",
    "                \"EXFqnet_AVG_DAILY\",\n",
    "                \"EXFhl_AVG_DAILY\",\n",
    "                \"EXFhs_AVG_DAILY\",\n",
    "                \"EXFlwdn_AVG_DAILY\",\n",
    "                \"EXFlwnet_AVG_DAILY\",\n",
    "                \"EXFswdn_AVG_DAILY\",\n",
    "                \"EXFswnet_AVG_DAILY\",\n",
    "                \"EXFuwind_AVG_DAILY\",\n",
    "                \"EXFtaux_AVG_DAILY\",\n",
    "                \"EXFvwind_AVG_DAILY\",\n",
    "                \"EXFtauy_AVG_DAILY\",\n",
    "                \"oceFWflx_AVG_DAILY\",\n",
    "                \"oceQnet_AVG_DAILY\",\n",
    "                \"oceQsw_AVG_DAILY\",\n",
    "                \"oceTAUX_AVG_DAILY\",\n",
    "                \"oceTAUY_AVG_DAILY\",\n",
    "                \"SFLUX_AVG_DAILY\",\n",
    "                \"TFLUX_AVG_DAILY\",\n",
    "                \"PHIHYD_AVG_DAILY\",\n",
    "                \"PHIHYDcR_AVG_DAILY\",\n",
    "                \"RHOAnoma_AVG_DAILY\",\n",
    "                \"SIatmFW_AVG_DAILY\",\n",
    "                \"SIatmQnt_AVG_DAILY\",\n",
    "                \"SIarea_AVG_DAILY\",\n",
    "                \"SIheff_AVG_DAILY\",\n",
    "                \"SIhsnow_AVG_DAILY\",\n",
    "                \"SIuice_AVG_DAILY\",\n",
    "                \"SIvice_AVG_DAILY\",\n",
    "                \"ADVr_SLT_AVG_DAILY\",\n",
    "                \"ADVr_TH_AVG_DAILY\",\n",
    "                \"ADVxHEFF_AVG_DAILY\",\n",
    "                \"ADVxSNOW_AVG_DAILY\",\n",
    "                \"ADVyHEFF_AVG_DAILY\",\n",
    "                \"ADVySNOW_AVG_DAILY\",\n",
    "                \"ADVx_SLT_AVG_DAILY\",\n",
    "                \"ADVx_TH_AVG_DAILY\",\n",
    "                \"ADVy_SLT_AVG_DAILY\",\n",
    "                \"ADVy_TH_AVG_DAILY\",\n",
    "                \"DFrE_SLT_AVG_DAILY\",\n",
    "                \"DFrE_TH_AVG_DAILY\",\n",
    "                \"DFrI_SLT_AVG_DAILY\",\n",
    "                \"DFrI_TH_AVG_DAILY\",\n",
    "                \"DFxE_SLT_AVG_DAILY\",\n",
    "                \"DFxE_TH_AVG_DAILY\",\n",
    "                \"DFyE_SLT_AVG_DAILY\",\n",
    "                \"DFyE_TH_AVG_DAILY\",\n",
    "                \"UVELMASS_AVG_DAILY\",\n",
    "                \"VVELMASS_AVG_DAILY\",\n",
    "                \"WVELMASS_AVG_DAILY\"]"
   ]
  },
  {
   "cell_type": "code",
   "execution_count": 9,
   "id": "69116907-734a-4d87-a5fa-86191c7e31db",
   "metadata": {},
   "outputs": [
    {
     "data": {
      "text/plain": [
       "67"
      ]
     },
     "execution_count": 9,
     "metadata": {},
     "output_type": "execute_result"
    }
   ],
   "source": [
    "## check number\n",
    "len(var_list_all)"
   ]
  },
  {
   "cell_type": "code",
   "execution_count": 10,
   "id": "c82f6f66-fefd-4479-b335-f18e58a61f82",
   "metadata": {},
   "outputs": [
    {
     "name": "stdout",
     "output_type": "stream",
     "text": [
      "SALT_AVG_DAILY is missing 2\n",
      "THETA_AVG_DAILY is missing 2\n",
      "UVEL_AVG_DAILY is missing 16\n",
      "VVEL_AVG_DAILY is missing 16\n",
      "WVEL_AVG_DAILY is missing 16\n",
      "KPPdiffS_AVG_DAILY is missing 1811\n",
      "KPPdiffT_AVG_DAILY is missing 1811\n",
      "KPPviscA_AVG_DAILY is missing 2133\n",
      "ETAN_AVG_DAILY is missing 16\n",
      "PHIBOT_AVG_DAILY is missing 16\n",
      "sIceLoad_AVG_DAILY is missing 16\n",
      "KPPhbl_AVG_DAILY is missing 134\n",
      "EXFaqh_AVG_DAILY is missing 2\n",
      "EXFatemp_AVG_DAILY is missing 2\n",
      "EXFempmr_AVG_DAILY is missing 2\n",
      "EXFevap_AVG_DAILY is missing 2\n",
      "EXFpreci_AVG_DAILY is missing 2\n",
      "EXFroff_AVG_DAILY is missing 2\n",
      "EXFqnet_AVG_DAILY is missing 2\n",
      "EXFhl_AVG_DAILY is missing 2\n",
      "EXFhs_AVG_DAILY is missing 2\n",
      "EXFlwdn_AVG_DAILY is missing 2\n",
      "EXFlwnet_AVG_DAILY is missing 2\n",
      "EXFswdn_AVG_DAILY is missing 2\n",
      "EXFswnet_AVG_DAILY is missing 2\n",
      "EXFuwind_AVG_DAILY is missing 2\n",
      "EXFtaux_AVG_DAILY is missing 2\n",
      "EXFvwind_AVG_DAILY is missing 2\n",
      "EXFtauy_AVG_DAILY is missing 2\n",
      "oceFWflx_AVG_DAILY is missing 2\n",
      "oceQnet_AVG_DAILY is missing 2\n",
      "oceQsw_AVG_DAILY is missing 2\n",
      "oceTAUX_AVG_DAILY is missing 2\n",
      "oceTAUY_AVG_DAILY is missing 2\n",
      "SFLUX_AVG_DAILY is missing 2\n",
      "TFLUX_AVG_DAILY is missing 2\n",
      "PHIHYD_AVG_DAILY is missing 2562\n",
      "PHIHYDcR_AVG_DAILY is missing 2562\n",
      "RHOAnoma_AVG_DAILY is missing 2576\n",
      "SIatmFW_AVG_DAILY is missing 2\n",
      "SIatmQnt_AVG_DAILY is missing 2\n",
      "SIarea_AVG_DAILY is missing 2\n",
      "SIheff_AVG_DAILY is missing 2\n",
      "SIhsnow_AVG_DAILY is missing 2\n",
      "SIuice_AVG_DAILY is missing 2\n",
      "SIvice_AVG_DAILY is missing 2\n",
      "ADVr_SLT_AVG_DAILY is missing 2581\n",
      "ADVr_TH_AVG_DAILY is missing 2581\n",
      "ADVxHEFF_AVG_DAILY is missing 2\n",
      "ADVxSNOW_AVG_DAILY is missing 2\n",
      "ADVyHEFF_AVG_DAILY is missing 2\n",
      "ADVySNOW_AVG_DAILY is missing 2\n",
      "ADVx_SLT_AVG_DAILY is missing 2581\n",
      "ADVx_TH_AVG_DAILY is missing 2581\n",
      "ADVy_SLT_AVG_DAILY is missing 2581\n",
      "ADVy_TH_AVG_DAILY is missing 2581\n",
      "DFrE_SLT_AVG_DAILY is missing 2581\n",
      "DFrE_TH_AVG_DAILY is missing 2581\n",
      "DFrI_SLT_AVG_DAILY is missing 2581\n",
      "DFrI_TH_AVG_DAILY is missing 2581\n",
      "DFxE_SLT_AVG_DAILY is missing 2581\n",
      "DFxE_TH_AVG_DAILY is missing 2581\n",
      "DFyE_SLT_AVG_DAILY is missing 2581\n",
      "DFyE_TH_AVG_DAILY is missing 2581\n",
      "UVELMASS_AVG_DAILY is missing 136\n",
      "VVELMASS_AVG_DAILY is missing 136\n",
      "WVELMASS_AVG_DAILY is missing 136\n"
     ]
    }
   ],
   "source": [
    "sassie_ecco_variable_gaps = identify_missing_datasets(var_list_all, s3_netcdf_dir)"
   ]
  },
  {
   "cell_type": "code",
   "execution_count": 113,
   "id": "00adf82f-abea-47be-a3ad-5655b4937260",
   "metadata": {},
   "outputs": [
    {
     "data": {
      "text/plain": [
       "['2014-04-24', '2015-04-09']"
      ]
     },
     "execution_count": 113,
     "metadata": {},
     "output_type": "execute_result"
    }
   ],
   "source": [
    "## look at one variable as an example\n",
    "sassie_ecco_variable_gaps['ADVySNOW_AVG_DAILY']"
   ]
  },
  {
   "cell_type": "markdown",
   "id": "a0b8717b-04ed-4000-8e29-bad25f047fc6",
   "metadata": {},
   "source": [
    "Save dictionary as json output"
   ]
  },
  {
   "cell_type": "code",
   "execution_count": 12,
   "id": "071377c8-fd8c-4fd7-a706-7639628b1a12",
   "metadata": {},
   "outputs": [],
   "source": [
    "# save dictionary as json file\n",
    "file_name = \"sassie-ecco-missing-dates.json\"\n",
    "\n",
    "with open(file_name, 'w') as json_file:\n",
    "    json.dump(sassie_ecco_variable_gaps, json_file)"
   ]
  },
  {
   "cell_type": "markdown",
   "id": "446f123c-0365-47c1-8619-d730bdd9a05b",
   "metadata": {},
   "source": [
    "Identify which variables are empty"
   ]
  },
  {
   "cell_type": "code",
   "execution_count": 13,
   "id": "8ed5c6d0-aaa1-4c2f-bb0e-53ee747e9cd0",
   "metadata": {},
   "outputs": [],
   "source": [
    "def find_variable_with_large_list(dictionary):\n",
    "    keys_with_gaps = []\n",
    "    \n",
    "    # Iterate through the dictionary\n",
    "    for key, value in dictionary.items():\n",
    "        # Check if the length of the list is more than XX dates\n",
    "        if len(value) > 2580:\n",
    "            keys_with_gaps.append(key)\n",
    "    \n",
    "    return keys_with_gaps"
   ]
  },
  {
   "cell_type": "code",
   "execution_count": 14,
   "id": "fdb5ecd7-c68b-4f00-8359-a4e70400c2c0",
   "metadata": {},
   "outputs": [],
   "source": [
    "variables_with_large_gaps = find_variable_with_large_list(sassie_ecco_variable_gaps)"
   ]
  },
  {
   "cell_type": "code",
   "execution_count": 15,
   "id": "97bcd2b9-2c66-4bcf-8ef8-bcef94d12cb4",
   "metadata": {},
   "outputs": [
    {
     "data": {
      "text/plain": [
       "['ADVr_SLT_AVG_DAILY',\n",
       " 'ADVr_TH_AVG_DAILY',\n",
       " 'ADVx_SLT_AVG_DAILY',\n",
       " 'ADVx_TH_AVG_DAILY',\n",
       " 'ADVy_SLT_AVG_DAILY',\n",
       " 'ADVy_TH_AVG_DAILY',\n",
       " 'DFrE_SLT_AVG_DAILY',\n",
       " 'DFrE_TH_AVG_DAILY',\n",
       " 'DFrI_SLT_AVG_DAILY',\n",
       " 'DFrI_TH_AVG_DAILY',\n",
       " 'DFxE_SLT_AVG_DAILY',\n",
       " 'DFxE_TH_AVG_DAILY',\n",
       " 'DFyE_SLT_AVG_DAILY',\n",
       " 'DFyE_TH_AVG_DAILY']"
      ]
     },
     "execution_count": 15,
     "metadata": {},
     "output_type": "execute_result"
    }
   ],
   "source": [
    "variables_with_large_gaps"
   ]
  },
  {
   "cell_type": "markdown",
   "id": "f7c08a70-b30a-4953-9bae-1c702e4616b1",
   "metadata": {},
   "source": [
    "### BOOKEEPING NOTES"
   ]
  },
  {
   "cell_type": "markdown",
   "id": "519cbdf6-37a7-492c-8d4d-1e60bc7e0385",
   "metadata": {},
   "source": [
    "63 datasets on s3 bucket now (identify missing 4)"
   ]
  },
  {
   "cell_type": "markdown",
   "id": "34825c09-0433-4b00-87b9-b70897986c58",
   "metadata": {},
   "source": [
    "9 items that need to be added to sassie cloud:"
   ]
  },
  {
   "cell_type": "code",
   "execution_count": null,
   "id": "8c3eb342-7cc0-49ba-af8b-a098ca61fe5f",
   "metadata": {},
   "outputs": [],
   "source": [
    "\"ADVx_TH_AVG_DAILY\"\n",
    "\"EXFuwind_AVG_DAILY\"\n",
    "\"KPPdiffT_AVG_DAILY\"\n",
    "\"KPPhbl_AVG_DAILY\"\n",
    "\"oceFWflx_AVG_DAILY\"\n",
    "\"SFLUX_AVG_DAILY\"\n",
    "\"SIatmQnt_AVG_DAILY\"\n",
    "\"SIuice_AVG_DAILY\"\n",
    "\"VVEL_AVG_DAILY\""
   ]
  },
  {
   "cell_type": "markdown",
   "id": "d797a2fc-7389-4889-b663-d2783623ca3a",
   "metadata": {},
   "source": [
    "What's on sassie cloud now (54)"
   ]
  },
  {
   "cell_type": "code",
   "execution_count": 73,
   "id": "77f235c0-48c4-4ae3-8829-bdf19507e7f4",
   "metadata": {},
   "outputs": [],
   "source": [
    "var_list = [\"ADVr_SLT_AVG_DAILY\",\n",
    "\"ADVr_TH_AVG_DAILY\",\n",
    "\"ADVxHEFF_AVG_DAILY\",\n",
    "\"ADVxSNOW_AVG_DAILY\",\n",
    "\"ADVx_SLT_AVG_DAILY\",\n",
    "\"ADVyHEFF_AVG_DAILY\",\n",
    "\"ADVySNOW_AVG_DAILY\",\n",
    "\"ADVy_SLT_AVG_DAILY\",\n",
    "\"ADVy_TH_AVG_DAILY\",\n",
    "\"DFrE_SLT_AVG_DAILY\",\n",
    "\"DFrE_TH_AVG_DAILY\",\n",
    "\"DFrI_SLT_AVG_DAILY\",\n",
    "\"DFrI_TH_AVG_DAILY\",\n",
    "\"ETAN_AVG_DAILY\",\n",
    "\"EXFaqh_AVG_DAILY\",\n",
    "\"EXFatemp_AVG_DAILY\",\n",
    "\"EXFempmr_AVG_DAILY\",\n",
    "\"EXFevap_AVG_DAILY\",\n",
    "\"EXFhl_AVG_DAILY\",\n",
    "\"EXFhs_AVG_DAILY\",\n",
    "\"EXFlwdn_AVG_DAILY\",\n",
    "\"EXFlwnet_AVG_DAILY\",\n",
    "\"EXFpreci_AVG_DAILY\",\n",
    "\"EXFqnet_AVG_DAILY\",\n",
    "\"EXFroff_AVG_DAILY\",\n",
    "\"EXFswdn_AVG_DAILY\",\n",
    "\"EXFswnet_AVG_DAILY\",\n",
    "\"EXFtaux_AVG_DAILY\",\n",
    "\"EXFtauy_AVG_DAILY\",\n",
    "\"EXFvwind_AVG_DAILY\",\n",
    "\"KPPdiffS_AVG_DAILY\",\n",
    "\"KPPviscA_AVG_DAILY\",\n",
    "\"PHIBOT_AVG_DAILY\",\n",
    "\"PHIHYD_AVG_DAILY\",\n",
    "\"PHIHYDcR_AVG_DAILY\",\n",
    "\"RHOAnoma_AVG_DAILY\",\n",
    "\"SALT_AVG_DAILY\",\n",
    "\"SIarea_AVG_DAILY\",\n",
    "\"SIatmFW_AVG_DAILY\",\n",
    "\"SIheff_AVG_DAILY\",\n",
    "\"SIhsnow_AVG_DAILY\",\n",
    "\"SIvice_AVG_DAILY\",\n",
    "\"TFLUX_AVG_DAILY\",\n",
    "\"THETA_AVG_DAILY\",\n",
    "\"UVELMASS_AVG_DAILY\",\n",
    "\"UVEL_AVG_DAILY\",\n",
    "\"VVELMASS_AVG_DAILY\",\n",
    "\"WVELMASS_AVG_DAILY\",\n",
    "\"WVEL_AVG_DAILY\",\n",
    "\"oceQnet_AVG_DAILY\",\n",
    "\"oceQsw_AVG_DAILY\",\n",
    "\"oceTAUX_AVG_DAILY\",\n",
    "\"oceTAUY_AVG_DAILY\",\n",
    "\"sIceLoad_AVG_DAILY\"]"
   ]
  },
  {
   "cell_type": "code",
   "execution_count": 75,
   "id": "60c959ad-d967-46c6-8806-5590b643cb87",
   "metadata": {},
   "outputs": [
    {
     "data": {
      "text/plain": [
       "54"
      ]
     },
     "execution_count": 75,
     "metadata": {},
     "output_type": "execute_result"
    }
   ],
   "source": [
    "len(var_list)"
   ]
  },
  {
   "cell_type": "code",
   "execution_count": 78,
   "id": "236167bf-ca0d-4a95-87ac-e3b62dd12a44",
   "metadata": {},
   "outputs": [
    {
     "data": {
      "text/plain": [
       "['ADVr_SLT_AVG_DAILY',\n",
       " 'ADVr_TH_AVG_DAILY',\n",
       " 'ADVxHEFF_AVG_DAILY',\n",
       " 'ADVxSNOW_AVG_DAILY',\n",
       " 'ADVx_SLT_AVG_DAILY',\n",
       " 'ADVyHEFF_AVG_DAILY',\n",
       " 'ADVySNOW_AVG_DAILY',\n",
       " 'ADVy_SLT_AVG_DAILY',\n",
       " 'ADVy_TH_AVG_DAILY',\n",
       " 'DFrE_SLT_AVG_DAILY',\n",
       " 'DFrE_TH_AVG_DAILY',\n",
       " 'DFrI_SLT_AVG_DAILY',\n",
       " 'DFrI_TH_AVG_DAILY',\n",
       " 'ETAN_AVG_DAILY',\n",
       " 'EXFaqh_AVG_DAILY',\n",
       " 'EXFatemp_AVG_DAILY',\n",
       " 'EXFempmr_AVG_DAILY',\n",
       " 'EXFevap_AVG_DAILY',\n",
       " 'EXFhl_AVG_DAILY',\n",
       " 'EXFhs_AVG_DAILY',\n",
       " 'EXFlwdn_AVG_DAILY',\n",
       " 'EXFlwnet_AVG_DAILY',\n",
       " 'EXFpreci_AVG_DAILY',\n",
       " 'EXFqnet_AVG_DAILY',\n",
       " 'EXFroff_AVG_DAILY',\n",
       " 'EXFswdn_AVG_DAILY',\n",
       " 'EXFswnet_AVG_DAILY',\n",
       " 'EXFtaux_AVG_DAILY',\n",
       " 'EXFtauy_AVG_DAILY',\n",
       " 'EXFvwind_AVG_DAILY',\n",
       " 'KPPdiffS_AVG_DAILY',\n",
       " 'KPPviscA_AVG_DAILY']"
      ]
     },
     "execution_count": 78,
     "metadata": {},
     "output_type": "execute_result"
    }
   ],
   "source": [
    "var_list[0:32]"
   ]
  }
 ],
 "metadata": {
  "kernelspec": {
   "display_name": "Python 3 (ipykernel)",
   "language": "python",
   "name": "python3"
  },
  "language_info": {
   "codemirror_mode": {
    "name": "ipython",
    "version": 3
   },
   "file_extension": ".py",
   "mimetype": "text/x-python",
   "name": "python",
   "nbconvert_exporter": "python",
   "pygments_lexer": "ipython3",
   "version": "3.11.8"
  }
 },
 "nbformat": 4,
 "nbformat_minor": 5
}
