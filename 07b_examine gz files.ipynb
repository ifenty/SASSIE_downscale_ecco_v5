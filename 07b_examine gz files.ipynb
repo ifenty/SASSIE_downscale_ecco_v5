{
 "cells": [
  {
   "cell_type": "code",
   "execution_count": 2,
   "id": "2d50da11-b704-428d-9d13-a8836d3f6842",
   "metadata": {},
   "outputs": [],
   "source": [
    "## import required packages\n",
    "import numpy as np\n",
    "import pandas as pd\n",
    "import matplotlib.pyplot as plt\n",
    "import xarray as xr\n",
    "import netCDF4 as nc4\n",
    "import tarfile\n",
    "import json\n",
    "import uuid as uuid\n",
    "import os\n",
    "from datetime import datetime, timedelta\n",
    "from pathlib import Path\n",
    "\n",
    "## import ECCO utils\n",
    "import sys\n",
    "sys.path.append('/Users/mzahn/github_others/ECCOv4-py')\n",
    "import ecco_v4_py as ecco"
   ]
  },
  {
   "cell_type": "code",
   "execution_count": 84,
   "id": "5a2a83c2-b70b-4b06-bc1e-8e005b537b68",
   "metadata": {},
   "outputs": [],
   "source": [
    "def iter_from_timestamp(timestamp_str):\n",
    "    \"\"\"\n",
    "    takes the model timestamp and generates the model iteration number\n",
    "    \"\"\"\n",
    "    \n",
    "    ## Start time of the model is 5790000 (22.0319 years after 1992-01-01)\n",
    "    ## there are 120 seconds for each iteration and 86400 seconds per day\n",
    "    ## take the iteration number, convert to seconds, and calculate number of days since start of model\n",
    "    \n",
    "    date = np.datetime64(timestamp_str)\n",
    "    \n",
    "    model_start_time = np.datetime64(\"1992-01-01\") # data.cal start time is 1992-01-01\n",
    "    timestamp = date - model_start_time\n",
    "    \n",
    "    iter_num = int(np.array(timestamp, dtype='int')*86400/120)\n",
    "\n",
    "    return iter_num"
   ]
  },
  {
   "cell_type": "code",
   "execution_count": 122,
   "id": "a2049627-d103-4dea-ba16-81f00040644d",
   "metadata": {},
   "outputs": [],
   "source": [
    "def timestamp_from_iter_num(iter_num):\n",
    "    \"\"\"\n",
    "    takes the model iteration that was pulled from the data's filename and converts it to its equivalent datetime\n",
    "    \"\"\"\n",
    "    ## Start time of the model is 5790000 (22.0319 years after 1992-01-01)\n",
    "    ## there are 120 seconds for each iteration and 86400 seconds per day\n",
    "    ## take the iteration number, convert to seconds, and calculate number of days since start of model\n",
    "    \n",
    "    \n",
    "    ## from Mike: \"Near the end of the simulation, I ran into some sort of instability so I changed the time step from 120 seconds to 60 seconds.\n",
    "    ## Usually I would change it back to 120 second after getting past the instability but I was kinda close to the end so I just let it ride with 60 seconds.\"\n",
    "    if iter_num > 1e7:\n",
    "        iter_num = iter_num/2\n",
    "    \n",
    "    num_days_since_start = iter_num*120 / 86400 ## divide iter_number by 86400 which is equal to the number of seconds in a day\n",
    "    \n",
    "    model_start_time = datetime(1992,1,1) # data.cal start time is 1992-01-01\n",
    "    timestamp = np.array([model_start_time + timedelta(days=num_days_since_start)], dtype='datetime64[ns]')\n",
    "    \n",
    "    return timestamp"
   ]
  },
  {
   "cell_type": "code",
   "execution_count": 86,
   "id": "89b93515-bc6b-49c9-904d-783eeada9f63",
   "metadata": {},
   "outputs": [
    {
     "data": {
      "text/plain": [
       "5867280"
      ]
     },
     "execution_count": 86,
     "metadata": {},
     "output_type": "execute_result"
    }
   ],
   "source": [
    "iter_from_timestamp(\"2014-04-24\")"
   ]
  },
  {
   "cell_type": "markdown",
   "id": "5aa482d7-fdc3-4aca-9a16-7948dc73ef95",
   "metadata": {},
   "source": [
    "Look into that date's gz file"
   ]
  },
  {
   "cell_type": "code",
   "execution_count": 126,
   "id": "d95b582f-7f25-40bb-b4ec-3f8b91e85dca",
   "metadata": {},
   "outputs": [],
   "source": [
    "data_dir = Path(\"/Users/mzahn/data/SASSIE/SASSIE_examples/daily_avg/ocean_state_3D_day_mean/ocean_state_3D_day_mean.0005860000/\")\n",
    "\n",
    "data_files = np.sort(list(data_dir.glob('*.data')))"
   ]
  },
  {
   "cell_type": "code",
   "execution_count": 131,
   "id": "c4e4ad12-45ea-4ab1-b611-3223e4be8d8e",
   "metadata": {},
   "outputs": [
    {
     "data": {
      "text/plain": [
       "array(['2014-04-27T00:00:00.000000000'], dtype='datetime64[ns]')"
      ]
     },
     "execution_count": 131,
     "metadata": {},
     "output_type": "execute_result"
    }
   ],
   "source": [
    "timestamp_from_iter_num(5869440)"
   ]
  },
  {
   "cell_type": "code",
   "execution_count": 128,
   "id": "cd78ef72-8e81-46ba-a435-755188e6263c",
   "metadata": {},
   "outputs": [
    {
     "name": "stdout",
     "output_type": "stream",
     "text": [
      "['2014-04-14T00:00:00.000000000']\n",
      "['2014-04-15T00:00:00.000000000']\n",
      "['2014-04-16T00:00:00.000000000']\n",
      "['2014-04-17T00:00:00.000000000']\n",
      "['2014-04-18T00:00:00.000000000']\n",
      "['2014-04-19T00:00:00.000000000']\n",
      "['2014-04-20T00:00:00.000000000']\n",
      "['2014-04-21T00:00:00.000000000']\n",
      "['2014-04-22T00:00:00.000000000']\n",
      "['2014-04-23T00:00:00.000000000']\n",
      "['2014-04-24T00:00:00.000000000']\n",
      "['2014-04-26T00:00:00.000000000']\n",
      "['2014-04-27T00:00:00.000000000']\n"
     ]
    }
   ],
   "source": [
    "for file in data_files:\n",
    "    iter_num = int(str(file).split(\".\")[-2])\n",
    "    timestamp = timestamp_from_iter_num(iter_num)\n",
    "    print(timestamp)"
   ]
  },
  {
   "cell_type": "markdown",
   "id": "e3f65696-8b12-49b9-9b5a-6ff9994ff619",
   "metadata": {},
   "source": [
    "These dates are one day ahead because the iter number indicates the end of the averaging period and what is saved in the netCDF is the middle of the averaging period"
   ]
  },
  {
   "cell_type": "code",
   "execution_count": null,
   "id": "65e8b8c8-1f27-4218-a47e-25747d24cf61",
   "metadata": {},
   "outputs": [],
   "source": [
    "timestamp_from_iter_num(iter_num)"
   ]
  }
 ],
 "metadata": {
  "kernelspec": {
   "display_name": "Python 3 (ipykernel)",
   "language": "python",
   "name": "python3"
  },
  "language_info": {
   "codemirror_mode": {
    "name": "ipython",
    "version": 3
   },
   "file_extension": ".py",
   "mimetype": "text/x-python",
   "name": "python",
   "nbconvert_exporter": "python",
   "pygments_lexer": "ipython3",
   "version": "3.11.7"
  }
 },
 "nbformat": 4,
 "nbformat_minor": 5
}
