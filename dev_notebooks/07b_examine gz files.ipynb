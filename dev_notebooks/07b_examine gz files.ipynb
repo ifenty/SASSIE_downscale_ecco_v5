{
 "cells": [
  {
   "cell_type": "markdown",
   "id": "f2c41e9e-b455-4fe5-acef-a7219bf21a12",
   "metadata": {},
   "source": [
    "# Look into missing datasets"
   ]
  },
  {
   "cell_type": "code",
   "execution_count": 20,
   "id": "2d50da11-b704-428d-9d13-a8836d3f6842",
   "metadata": {},
   "outputs": [],
   "source": [
    "## import required packages\n",
    "import numpy as np\n",
    "import pandas as pd\n",
    "import matplotlib.pyplot as plt\n",
    "import xarray as xr\n",
    "import netCDF4 as nc4\n",
    "import tarfile\n",
    "import json\n",
    "import uuid as uuid\n",
    "import os\n",
    "from datetime import datetime, timedelta\n",
    "from pathlib import Path\n",
    "import s3fs\n",
    "\n",
    "## import ECCO utils\n",
    "import sys\n",
    "sys.path.append('/Users/mzahn/github_others/ECCOv4-py')\n",
    "import ecco_v4_py as ecco"
   ]
  },
  {
   "cell_type": "markdown",
   "id": "94c41f1f-5a3d-4d1d-91b8-63b51037559c",
   "metadata": {},
   "source": [
    "Files Ian identified as currupt:\n",
    "\n",
    "`KPP_hbl_day_mean.0015120000.tar.gz` <br>\n",
    "`tr_adv_x_3D_day_mean.0015110000.tar.gz`<br>\n",
    "`tr_adv_x_3D_day_mean.0015120000.tar.gz`"
   ]
  },
  {
   "cell_type": "code",
   "execution_count": 54,
   "id": "7a422aec-14cc-444c-8efa-7d32a9d81a2c",
   "metadata": {},
   "outputs": [],
   "source": [
    "def load_sassie_N1_field(file_dir, fname, nk=1, skip=0):\n",
    "    num_cols = 680*4 + 1080\n",
    "    num_rows = 1080\n",
    "    \n",
    "    time_level = int(fname.split('.data')[0].split('.')[-1])\n",
    "    \n",
    "    tmp_compact = ecco.load_binary_array(file_dir, fname, \\\n",
    "                                    num_rows, num_cols, nk=nk, skip=skip, filetype='>f4')\n",
    "\n",
    "    return tmp_compact, time_level"
   ]
  },
  {
   "cell_type": "code",
   "execution_count": 10,
   "id": "5a2a83c2-b70b-4b06-bc1e-8e005b537b68",
   "metadata": {},
   "outputs": [],
   "source": [
    "def iter_from_timestamp(timestamp_str):\n",
    "    \"\"\"\n",
    "    takes the model timestamp and generates the model iteration number\n",
    "    \"\"\"\n",
    "    \n",
    "    ## Start time of the model is 5790000 (22.0319 years after 1992-01-01)\n",
    "    ## there are 120 seconds for each iteration and 86400 seconds per day\n",
    "    ## take the iteration number, convert to seconds, and calculate number of days since start of model\n",
    "    \n",
    "    date = np.datetime64(timestamp_str)\n",
    "    \n",
    "    model_start_time = np.datetime64(\"1992-01-01\") # data.cal start time is 1992-01-01\n",
    "    timestamp = date - model_start_time\n",
    "    \n",
    "    iter_num = int(np.array(timestamp, dtype='int')*86400/120)\n",
    "\n",
    "    return iter_num"
   ]
  },
  {
   "cell_type": "code",
   "execution_count": 11,
   "id": "a2049627-d103-4dea-ba16-81f00040644d",
   "metadata": {},
   "outputs": [],
   "source": [
    "def timestamp_from_iter_num(iter_num):\n",
    "    \"\"\"\n",
    "    takes the model iteration that was pulled from the data's filename and converts it to its equivalent datetime\n",
    "    \"\"\"\n",
    "    ## Start time of the model is 5790000 (22.0319 years after 1992-01-01)\n",
    "    ## there are 120 seconds for each iteration and 86400 seconds per day\n",
    "    ## take the iteration number, convert to seconds, and calculate number of days since start of model\n",
    "    \n",
    "    \n",
    "    ## Near the end of the simulation, Mike ran into some sort of instability so he changed the time step from 120 seconds to 60 seconds.\n",
    "    if iter_num > 1e7:\n",
    "        iter_num = iter_num/2\n",
    "    \n",
    "    num_days_since_start = iter_num*120 / 86400 ## divide iter_number by 86400 which is equal to the number of seconds in a day\n",
    "    \n",
    "    model_start_time = datetime(1992,1,1) # data.cal start time is 1992-01-01\n",
    "    timestamp = np.array([model_start_time + timedelta(days=num_days_since_start)], dtype='datetime64[ns]')\n",
    "    \n",
    "    return timestamp"
   ]
  },
  {
   "cell_type": "code",
   "execution_count": 42,
   "id": "a9be60ac-f073-43f1-b761-4f9e31899677",
   "metadata": {},
   "outputs": [],
   "source": [
    "def unpack_tar_gz_files(gz_file_path, data_dir):\n",
    "    tar = tarfile.open(gz_file_path, \"r:gz\")\n",
    "    tar.extractall(data_dir) # save files to same directory\n",
    "    tar.close()"
   ]
  },
  {
   "cell_type": "markdown",
   "id": "28686623-f647-4413-939f-af297b968baa",
   "metadata": {},
   "source": [
    "### Example look into date that is missing from all datasets"
   ]
  },
  {
   "cell_type": "code",
   "execution_count": 12,
   "id": "89b93515-bc6b-49c9-904d-783eeada9f63",
   "metadata": {},
   "outputs": [
    {
     "data": {
      "text/plain": [
       "5867280"
      ]
     },
     "execution_count": 12,
     "metadata": {},
     "output_type": "execute_result"
    }
   ],
   "source": [
    "iter_from_timestamp(\"2014-04-24\")"
   ]
  },
  {
   "cell_type": "code",
   "execution_count": 33,
   "id": "c4e4ad12-45ea-4ab1-b611-3223e4be8d8e",
   "metadata": {},
   "outputs": [
    {
     "data": {
      "text/plain": [
       "array(['2014-04-27T00:00:00.000000000'], dtype='datetime64[ns]')"
      ]
     },
     "execution_count": 33,
     "metadata": {},
     "output_type": "execute_result"
    }
   ],
   "source": [
    "## confirm which iter timestep we need to look at\n",
    "timestamp_from_iter_num(5869440)"
   ]
  },
  {
   "cell_type": "markdown",
   "id": "5aa482d7-fdc3-4aca-9a16-7948dc73ef95",
   "metadata": {},
   "source": [
    "Look into that date's gz file"
   ]
  },
  {
   "cell_type": "code",
   "execution_count": 29,
   "id": "b1ff0e48-5118-4672-b28c-5c9e6101ebeb",
   "metadata": {},
   "outputs": [],
   "source": [
    "s3 = s3fs.S3FileSystem(anon=False)"
   ]
  },
  {
   "cell_type": "code",
   "execution_count": 35,
   "id": "e04fcd88-ab30-4be1-98a5-2645d4252ff4",
   "metadata": {},
   "outputs": [],
   "source": [
    "gz_data_dir = '/home/jpluser/sassie/gz_tmp/'\n",
    "s3_bucket_dir = 's3://ecco-model-granules/SASSIE/N1/'"
   ]
  },
  {
   "cell_type": "code",
   "execution_count": 37,
   "id": "3acfdc36-1752-406a-967a-0e5133db2643",
   "metadata": {},
   "outputs": [],
   "source": [
    "filename = 'ocean_state_3D_day_mean.0005860000.tar.gz'"
   ]
  },
  {
   "cell_type": "code",
   "execution_count": 40,
   "id": "550d73c2-5916-46c8-ad91-f6a002a0a079",
   "metadata": {},
   "outputs": [],
   "source": [
    "file_url = s3_bucket_dir + 'ocean_state_3D_day_mean/' + filename"
   ]
  },
  {
   "cell_type": "code",
   "execution_count": 32,
   "id": "007a1203-f145-400b-a9b3-712dfaf9f021",
   "metadata": {},
   "outputs": [
    {
     "data": {
      "text/plain": [
       "[None]"
      ]
     },
     "execution_count": 32,
     "metadata": {},
     "output_type": "execute_result"
    }
   ],
   "source": [
    "## bring gz file to lcoal ec2\n",
    "s3.download(file_url, gz_data_dir)"
   ]
  },
  {
   "cell_type": "code",
   "execution_count": 43,
   "id": "d35731bc-ebb5-47c8-adff-78e0ceb3b067",
   "metadata": {},
   "outputs": [],
   "source": [
    "## unpack gz file\n",
    "gz_file_path = gz_data_dir + filename\n",
    "data_dir = gz_data_dir + '/unpacked/'\n",
    "\n",
    "unpack_tar_gz_files(gz_file_path, data_dir)"
   ]
  },
  {
   "cell_type": "code",
   "execution_count": 45,
   "id": "d95b582f-7f25-40bb-b4ec-3f8b91e85dca",
   "metadata": {},
   "outputs": [],
   "source": [
    "data_dir_path = Path(data_dir)\n",
    "data_files = np.sort(list(data_dir_path.glob('*.data')))"
   ]
  },
  {
   "cell_type": "code",
   "execution_count": 46,
   "id": "cd78ef72-8e81-46ba-a435-755188e6263c",
   "metadata": {},
   "outputs": [
    {
     "name": "stdout",
     "output_type": "stream",
     "text": [
      "['2014-04-14T00:00:00.000000000']\n",
      "['2014-04-15T00:00:00.000000000']\n",
      "['2014-04-16T00:00:00.000000000']\n",
      "['2014-04-17T00:00:00.000000000']\n",
      "['2014-04-18T00:00:00.000000000']\n",
      "['2014-04-19T00:00:00.000000000']\n",
      "['2014-04-20T00:00:00.000000000']\n",
      "['2014-04-21T00:00:00.000000000']\n",
      "['2014-04-22T00:00:00.000000000']\n",
      "['2014-04-23T00:00:00.000000000']\n",
      "['2014-04-24T00:00:00.000000000']\n",
      "['2014-04-26T00:00:00.000000000']\n",
      "['2014-04-27T00:00:00.000000000']\n"
     ]
    }
   ],
   "source": [
    "for file in data_files:\n",
    "    iter_num = int(str(file).split(\".\")[-2])\n",
    "    timestamp = timestamp_from_iter_num(iter_num)\n",
    "    print(timestamp)"
   ]
  },
  {
   "cell_type": "markdown",
   "id": "e3f65696-8b12-49b9-9b5a-6ff9994ff619",
   "metadata": {},
   "source": [
    "These dates are one day ahead because the iter number (and corresponding date) indicates the end of the averaging period and what is saved in the netCDF is the middle of the averaging period"
   ]
  },
  {
   "cell_type": "markdown",
   "id": "214c20a4-a6a1-4f2e-9912-34b7d8aafc6d",
   "metadata": {},
   "source": [
    "***"
   ]
  },
  {
   "cell_type": "markdown",
   "id": "7eee4651-be9c-49ba-bf9e-1b83543faa60",
   "metadata": {},
   "source": [
    "### Look into variables with significant gaps"
   ]
  },
  {
   "cell_type": "markdown",
   "id": "5ccbc16e-d99c-4cd6-9028-8dec2b775fda",
   "metadata": {},
   "source": [
    "#### tr_diff_x_day_mean\n",
    "Only had 101 gz files"
   ]
  },
  {
   "cell_type": "markdown",
   "id": "1e63c235-4b65-4c3d-a6c5-2891ce2f401f",
   "metadata": {},
   "source": [
    "*These fields were turned off midway through because they were zero (from Mike)*"
   ]
  },
  {
   "cell_type": "markdown",
   "id": "1116d8ff-6f06-4620-939b-74f4a6bfba29",
   "metadata": {},
   "source": [
    "> CURRENT NETCDF COUNTS: <br>\n",
    " 'DFxE_SLT_AVG_DAILY': 0, <br>\n",
    " 'DFxE_TH_AVG_DAILY': 0, <br>\n",
    " 'DFyE_SLT_AVG_DAILY': 0, <br>\n",
    " 'DFyE_TH_AVG_DAILY': 0, <br>"
   ]
  },
  {
   "cell_type": "code",
   "execution_count": 47,
   "id": "93ef7d00-b8ef-427b-b758-093fce7b1c23",
   "metadata": {},
   "outputs": [],
   "source": [
    "s3 = s3fs.S3FileSystem(anon=False)\n",
    "gz_data_dir = '/home/jpluser/sassie/gz_tmp/'\n",
    "s3_bucket_dir = 's3://ecco-model-granules/SASSIE/N1/'\n",
    "\n",
    "filename = 'tr_diff_x_day_mean.0005800000.tar.gz'\n",
    "file_url = s3_bucket_dir + 'tr_diff_x_day_mean/' + filename"
   ]
  },
  {
   "cell_type": "code",
   "execution_count": 48,
   "id": "8437457b-792e-47ec-bbf8-cb151ad2066d",
   "metadata": {},
   "outputs": [
    {
     "data": {
      "text/plain": [
       "[None]"
      ]
     },
     "execution_count": 48,
     "metadata": {},
     "output_type": "execute_result"
    }
   ],
   "source": [
    "## bring gz file to lcoal ec2\n",
    "s3.download(file_url, gz_data_dir)"
   ]
  },
  {
   "cell_type": "code",
   "execution_count": null,
   "id": "221670b4-692d-4bf9-baa6-7d938be97c9c",
   "metadata": {},
   "outputs": [],
   "source": [
    "## unpack gz file (NOTE: I stopped decompression middway through)\n",
    "gz_file_path = gz_data_dir + filename\n",
    "data_dir = gz_data_dir + '/unpacked/'\n",
    "\n",
    "unpack_tar_gz_files(gz_file_path, data_dir)"
   ]
  },
  {
   "cell_type": "code",
   "execution_count": 50,
   "id": "513b9818-0f49-44a2-9c2f-22412a3762ac",
   "metadata": {},
   "outputs": [
    {
     "name": "stdout",
     "output_type": "stream",
     "text": [
      "load_binary_array: loading file /home/jpluser/sassie/gz_tmp/unpacked/tr_diff_x_day_mean.0005803200.data\n",
      "load_binary_array: data array shape  (90, 3800, 1080)\n",
      "load_binary_array: data array type  >f4\n",
      "load_binary_array: loading file /home/jpluser/sassie/gz_tmp/unpacked/tr_diff_x_day_mean.0005803200.data\n",
      "load_binary_array: data array shape  (90, 3800, 1080)\n",
      "load_binary_array: data array type  >f4\n",
      "load_binary_array: loading file /home/jpluser/sassie/gz_tmp/unpacked/tr_diff_x_day_mean.0005803200.data\n",
      "load_binary_array: data array shape  (90, 3800, 1080)\n",
      "load_binary_array: data array type  >f4\n",
      "load_binary_array: loading file /home/jpluser/sassie/gz_tmp/unpacked/tr_diff_x_day_mean.0005803200.data\n",
      "load_binary_array: data array shape  (90, 3800, 1080)\n",
      "load_binary_array: data array type  >f4\n"
     ]
    }
   ],
   "source": [
    "data_dir_path = Path(data_dir)\n",
    "filename = \"tr_diff_x_day_mean.0005803200.data\"\n",
    "\n",
    "DFxE_SLT_compact, DFxE_SLT_level = load_sassie_N1_field(data_dir_path, filename, nk=90, skip=0)\n",
    "DFxE_TH_compact, DFxE_TH_level = load_sassie_N1_field(data_dir_path, filename, nk=90, skip=0)\n",
    "DFyE_SLT_compact, DFyE_SLT_level = load_sassie_N1_field(data_dir_path, filename, nk=90, skip=0)\n",
    "DFyE_TH_SLT_compact, DFyE_TH_SLT_level = load_sassie_N1_field(data_dir_path, filename, nk=90, skip=0)"
   ]
  },
  {
   "cell_type": "code",
   "execution_count": 51,
   "id": "521541ca-31a8-473a-ac17-622d62d044e1",
   "metadata": {},
   "outputs": [
    {
     "name": "stdout",
     "output_type": "stream",
     "text": [
      "False\n",
      "False\n",
      "False\n",
      "False\n"
     ]
    }
   ],
   "source": [
    "print(np.any(DFxE_SLT_compact != 0))\n",
    "print(np.any(DFxE_TH_compact != 0))\n",
    "print(np.any(DFyE_SLT_compact != 0))\n",
    "print(np.any(DFyE_TH_SLT_compact != 0))"
   ]
  },
  {
   "cell_type": "code",
   "execution_count": 53,
   "id": "a925eae2-89e8-49ea-9010-8b0c2e84c9ec",
   "metadata": {},
   "outputs": [
    {
     "data": {
      "image/png": "[encoded data removed]",
      "text/plain": [
       "<Figure size 900x600 with 4 Axes>"
      ]
     },
     "metadata": {},
     "output_type": "display_data"
    }
   ],
   "source": [
    "fig,axs = plt.subplots(1,4, figsize=[9,6])\n",
    "axs[0].imshow(DFxE_SLT_compact[0,:,:], origin='lower', cmap='jet')\n",
    "axs[1].imshow(DFxE_TH_compact[0,:,:], origin='lower', cmap='jet')\n",
    "axs[2].imshow(DFyE_SLT_compact[0,:,:], origin='lower', cmap='jet')\n",
    "axs[3].imshow(DFyE_TH_SLT_compact[0,:,:], origin='lower', cmap='jet')\n",
    "\n",
    "for ax in axs:\n",
    "    ax.invert_yaxis()"
   ]
  },
  {
   "cell_type": "markdown",
   "id": "12a5227c-44a0-4fc2-8b6b-fe2290d33b8f",
   "metadata": {},
   "source": [
    "#### tr_diff_r_day_mean\n",
    "gz n=199"
   ]
  },
  {
   "cell_type": "markdown",
   "id": "5e7017c8-e448-407c-8d8c-31fd7e540a19",
   "metadata": {},
   "source": [
    "For `tr_diff_r_day_mean` some files only have ['DFrI_SLT' 'DFrI_TH'] while others have ['DFrE_SLT' 'DFrE_TH' 'DFrI_SLT' 'DFrI_TH']"
   ]
  },
  {
   "cell_type": "markdown",
   "id": "1e476ee2-c913-4e6e-9979-cc9b261038d4",
   "metadata": {},
   "source": [
    "> CURRENT NETCDF COUNTS: <br>\n",
    " 'DFrE_SLT_AVG_DAILY': 474, <br>\n",
    " 'DFrE_TH_AVG_DAILY': 474, <br>\n",
    " 'DFrI_SLT_AVG_DAILY': 240, <br>\n",
    " 'DFrI_TH_AVG_DAILY': 240, <br>"
   ]
  },
  {
   "cell_type": "markdown",
   "id": "119e9b0b-821a-4043-8a7b-f1b5394ef514",
   "metadata": {},
   "source": [
    "#### phi_3D_day_mean\n",
    "gz n=199"
   ]
  },
  {
   "cell_type": "markdown",
   "id": "26beedab-b21e-4cd5-8636-c8c95482c2b9",
   "metadata": {},
   "source": [
    "> CURRENT NETCDF COUNTS: <br>\n",
    " 'PHIHYD_AVG_DAILY': 19, <br>\n",
    " 'PHIHYDcR_AVG_DAILY': 19, <br>\n",
    " 'RHOAnoma_AVG_DAILY': 5, <br>"
   ]
  },
  {
   "cell_type": "markdown",
   "id": "b3b05913-9c5c-4222-9b00-654a9c548f80",
   "metadata": {},
   "source": [
    "#### KPP_mix_day_mean\n",
    "gz n=199"
   ]
  },
  {
   "cell_type": "markdown",
   "id": "ee23135e-2874-4113-9961-b547c01ea8a5",
   "metadata": {},
   "source": [
    "Some KPP mix gz data files have 3 variables (diffT, diffS, and visc) and others only have 2 (diffS and visc)"
   ]
  },
  {
   "cell_type": "markdown",
   "id": "048b2514-b5a9-4cab-ad43-079e2de1d1ef",
   "metadata": {},
   "source": [
    "> CURRENT NETCDF COUNTS: <br>\n",
    " 'KPPdiffS_AVG_DAILY': 770, <br>\n",
    " 'KPPdiffT_AVG_DAILY': 770, <br>\n",
    " 'KPPviscA_AVG_DAILY': 448, <br>"
   ]
  },
  {
   "cell_type": "code",
   "execution_count": null,
   "id": "ffc7ed45-12d7-4780-b63a-6f1a1c03ef10",
   "metadata": {},
   "outputs": [],
   "source": []
  }
 ],
 "metadata": {
  "kernelspec": {
   "display_name": "Python 3 (ipykernel)",
   "language": "python",
   "name": "python3"
  },
  "language_info": {
   "codemirror_mode": {
    "name": "ipython",
    "version": 3
   },
   "file_extension": ".py",
   "mimetype": "text/x-python",
   "name": "python",
   "nbconvert_exporter": "python",
   "pygments_lexer": "ipython3",
   "version": "3.11.8"
  }
 },
 "nbformat": 4,
 "nbformat_minor": 5
}
